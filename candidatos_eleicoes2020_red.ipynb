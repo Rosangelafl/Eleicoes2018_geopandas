{
  "nbformat": 4,
  "nbformat_minor": 0,
  "metadata": {
    "colab": {
      "name": "candidatos_eleicoes2020_red.ipynb",
      "provenance": [],
      "collapsed_sections": [],
      "mount_file_id": "1MTH710Q7u-fgjb9mTc8ZuWjRDq4RQwfM",
      "authorship_tag": "ABX9TyMn2aoac33ZERD7UP9+cls2",
      "include_colab_link": true
    },
    "kernelspec": {
      "name": "python3",
      "display_name": "Python 3"
    }
  },
  "cells": [
    {
      "cell_type": "markdown",
      "metadata": {
        "id": "view-in-github",
        "colab_type": "text"
      },
      "source": [
        "<a href=\"https://colab.research.google.com/github/Rosangelafl/Eleicoes_Brasil/blob/master/candidatos_eleicoes2020_red.ipynb\" target=\"_parent\"><img src=\"https://colab.research.google.com/assets/colab-badge.svg\" alt=\"Open In Colab\"/></a>"
      ]
    },
    {
      "cell_type": "markdown",
      "metadata": {
        "id": "PCsXSKAoAb8Q"
      },
      "source": [
        "Análise dos dados do TSE, eleições locais 2020. \n",
        "\n",
        "Fonte:https://www.tse.jus.br/eleicoes/estatisticas/repositorio-de-dados-eleitorais-1/repositorio-de-dados-eleitorais\n",
        "\n",
        "Baixados em 1 de setembro 2020\n",
        "\n",
        "Planilhas csv e documentação em https://bit.ly/3jLmQt5\n"
      ]
    },
    {
      "cell_type": "code",
      "metadata": {
        "id": "tJ2qdZ4mYaI2"
      },
      "source": [
        "#importando as bibliotecas e definindo estilo dos gráficos\n",
        "\n",
        "import pandas as pd\n",
        "from pathlib import Path\n",
        "import glob, os\n",
        "import numpy as np\n",
        "import seaborn as sns\n",
        "import matplotlib.pyplot as plt\n",
        "from matplotlib import style\n",
        "\n",
        "#estilo \n",
        "\n",
        "style.use('ggplot')\n",
        "plt.rcParams['figure.figsize'] = (20,10)"
      ],
      "execution_count": 4,
      "outputs": []
    },
    {
      "cell_type": "code",
      "metadata": {
        "id": "xi-PZ5xRZQ9A"
      },
      "source": [
        "# Juntando as planilhas, uma para cada estado, apenas com a colunas para análises\n",
        "\n",
        "path = r'/content/drive/My Drive/eleicoes2020_dados_tse/eleições2020/consulta_cand_2020' \n",
        "all_files = glob.glob(os.path.join(path, \"*.csv\"))\n",
        "\n",
        "li = []\n",
        "\n",
        "for filename in all_files:\n",
        "    df = pd.read_csv(filename, encoding='latin-1', index_col=None, low_memory=False, error_bad_lines=False, sep=';', quotechar='\"', \n",
        "                     usecols=['NM_UE','DS_CARGO','SQ_CANDIDATO','NM_CANDIDATO','NM_URNA_CANDIDATO', 'SG_PARTIDO',\n",
        "                              'NR_IDADE_DATA_POSSE','DS_GENERO', 'DS_GRAU_INSTRUCAO','DS_COR_RACA','DS_OCUPACAO',\n",
        "                              'VR_DESPESA_MAX_CAMPANHA'])\n",
        "                   \n",
        "    li.append(df)\n",
        "\n",
        "df = pd.concat(li, axis=0, ignore_index=True, sort=False)"
      ],
      "execution_count": 5,
      "outputs": []
    },
    {
      "cell_type": "code",
      "metadata": {
        "id": "YfnJXSVfZRMb",
        "outputId": "892cc96c-af56-4fd2-86e7-fb3811304647",
        "colab": {
          "base_uri": "https://localhost:8080/",
          "height": 34
        }
      },
      "source": [
        "df.index"
      ],
      "execution_count": 6,
      "outputs": [
        {
          "output_type": "execute_result",
          "data": {
            "text/plain": [
              "RangeIndex(start=0, stop=1096678, step=1)"
            ]
          },
          "metadata": {
            "tags": []
          },
          "execution_count": 6
        }
      ]
    },
    {
      "cell_type": "code",
      "metadata": {
        "id": "PDGTnBaqZRab",
        "outputId": "d3d59f33-1ffd-4708-a0b9-8bab7ddde075",
        "colab": {
          "base_uri": "https://localhost:8080/",
          "height": 238
        }
      },
      "source": [
        "#verificando valores nulos\n",
        "df.isnull().sum()"
      ],
      "execution_count": 7,
      "outputs": [
        {
          "output_type": "execute_result",
          "data": {
            "text/plain": [
              "NM_UE                      0\n",
              "DS_CARGO                   0\n",
              "SQ_CANDIDATO               0\n",
              "NM_CANDIDATO               0\n",
              "NM_URNA_CANDIDATO          6\n",
              "SG_PARTIDO                 0\n",
              "NR_IDADE_DATA_POSSE        0\n",
              "DS_GENERO                  0\n",
              "DS_GRAU_INSTRUCAO          0\n",
              "DS_COR_RACA                0\n",
              "DS_OCUPACAO                0\n",
              "VR_DESPESA_MAX_CAMPANHA    0\n",
              "dtype: int64"
            ]
          },
          "metadata": {
            "tags": []
          },
          "execution_count": 7
        }
      ]
    },
    {
      "cell_type": "code",
      "metadata": {
        "id": "vjts0oQxZRrE",
        "outputId": "8f1d4bce-57da-46f3-898f-0a304c1af4bf",
        "colab": {
          "base_uri": "https://localhost:8080/",
          "height": 455
        }
      },
      "source": [
        "df.head(3).T"
      ],
      "execution_count": 8,
      "outputs": [
        {
          "output_type": "execute_result",
          "data": {
            "text/html": [
              "<div>\n",
              "<style scoped>\n",
              "    .dataframe tbody tr th:only-of-type {\n",
              "        vertical-align: middle;\n",
              "    }\n",
              "\n",
              "    .dataframe tbody tr th {\n",
              "        vertical-align: top;\n",
              "    }\n",
              "\n",
              "    .dataframe thead th {\n",
              "        text-align: right;\n",
              "    }\n",
              "</style>\n",
              "<table border=\"1\" class=\"dataframe\">\n",
              "  <thead>\n",
              "    <tr style=\"text-align: right;\">\n",
              "      <th></th>\n",
              "      <th>0</th>\n",
              "      <th>1</th>\n",
              "      <th>2</th>\n",
              "    </tr>\n",
              "  </thead>\n",
              "  <tbody>\n",
              "    <tr>\n",
              "      <th>NM_UE</th>\n",
              "      <td>PORTO GRANDE</td>\n",
              "      <td>MAZAGÃO</td>\n",
              "      <td>MAZAGÃO</td>\n",
              "    </tr>\n",
              "    <tr>\n",
              "      <th>DS_CARGO</th>\n",
              "      <td>VEREADOR</td>\n",
              "      <td>VEREADOR</td>\n",
              "      <td>VEREADOR</td>\n",
              "    </tr>\n",
              "    <tr>\n",
              "      <th>SQ_CANDIDATO</th>\n",
              "      <td>30000964748</td>\n",
              "      <td>30001199478</td>\n",
              "      <td>30001199476</td>\n",
              "    </tr>\n",
              "    <tr>\n",
              "      <th>NM_CANDIDATO</th>\n",
              "      <td>MARCIO ALESSANDRO MARQUES DOS SANTOS</td>\n",
              "      <td>MARIA ALDA MONTEIRO DE OLIVEIRA DA SILVA</td>\n",
              "      <td>THOMAS CARDOSO VIDEIRA</td>\n",
              "    </tr>\n",
              "    <tr>\n",
              "      <th>NM_URNA_CANDIDATO</th>\n",
              "      <td>MARCIO DO MATAPI</td>\n",
              "      <td>MARIA ALDA</td>\n",
              "      <td>THOMAS VIDEIRA</td>\n",
              "    </tr>\n",
              "    <tr>\n",
              "      <th>SG_PARTIDO</th>\n",
              "      <td>PL</td>\n",
              "      <td>REPUBLICANOS</td>\n",
              "      <td>REPUBLICANOS</td>\n",
              "    </tr>\n",
              "    <tr>\n",
              "      <th>NR_IDADE_DATA_POSSE</th>\n",
              "      <td>37</td>\n",
              "      <td>42</td>\n",
              "      <td>27</td>\n",
              "    </tr>\n",
              "    <tr>\n",
              "      <th>DS_GENERO</th>\n",
              "      <td>MASCULINO</td>\n",
              "      <td>FEMININO</td>\n",
              "      <td>MASCULINO</td>\n",
              "    </tr>\n",
              "    <tr>\n",
              "      <th>DS_GRAU_INSTRUCAO</th>\n",
              "      <td>SUPERIOR COMPLETO</td>\n",
              "      <td>ENSINO MÉDIO COMPLETO</td>\n",
              "      <td>SUPERIOR INCOMPLETO</td>\n",
              "    </tr>\n",
              "    <tr>\n",
              "      <th>DS_COR_RACA</th>\n",
              "      <td>PARDA</td>\n",
              "      <td>PARDA</td>\n",
              "      <td>PARDA</td>\n",
              "    </tr>\n",
              "    <tr>\n",
              "      <th>DS_OCUPACAO</th>\n",
              "      <td>SERVIDOR PÚBLICO MUNICIPAL</td>\n",
              "      <td>OUTROS</td>\n",
              "      <td>VENDEDOR PRACISTA, REPRESENTANTE, CAIXEIRO-VIA...</td>\n",
              "    </tr>\n",
              "    <tr>\n",
              "      <th>VR_DESPESA_MAX_CAMPANHA</th>\n",
              "      <td>12308</td>\n",
              "      <td>24150</td>\n",
              "      <td>24150</td>\n",
              "    </tr>\n",
              "  </tbody>\n",
              "</table>\n",
              "</div>"
            ],
            "text/plain": [
              "                                                            0  ...                                                  2\n",
              "NM_UE                                            PORTO GRANDE  ...                                            MAZAGÃO\n",
              "DS_CARGO                                             VEREADOR  ...                                           VEREADOR\n",
              "SQ_CANDIDATO                                      30000964748  ...                                        30001199476\n",
              "NM_CANDIDATO             MARCIO ALESSANDRO MARQUES DOS SANTOS  ...                             THOMAS CARDOSO VIDEIRA\n",
              "NM_URNA_CANDIDATO                            MARCIO DO MATAPI  ...                                     THOMAS VIDEIRA\n",
              "SG_PARTIDO                                                 PL  ...                                       REPUBLICANOS\n",
              "NR_IDADE_DATA_POSSE                                        37  ...                                                 27\n",
              "DS_GENERO                                           MASCULINO  ...                                          MASCULINO\n",
              "DS_GRAU_INSTRUCAO                           SUPERIOR COMPLETO  ...                                SUPERIOR INCOMPLETO\n",
              "DS_COR_RACA                                             PARDA  ...                                              PARDA\n",
              "DS_OCUPACAO                        SERVIDOR PÚBLICO MUNICIPAL  ...  VENDEDOR PRACISTA, REPRESENTANTE, CAIXEIRO-VIA...\n",
              "VR_DESPESA_MAX_CAMPANHA                                 12308  ...                                              24150\n",
              "\n",
              "[12 rows x 3 columns]"
            ]
          },
          "metadata": {
            "tags": []
          },
          "execution_count": 8
        }
      ]
    },
    {
      "cell_type": "code",
      "metadata": {
        "id": "zKbsnR8paevk",
        "outputId": "880b806b-d12d-4662-acc9-eb2f3c8236ab",
        "colab": {
          "base_uri": "https://localhost:8080/",
          "height": 34
        }
      },
      "source": [
        "# Descobrindo quantos candidatos/valores únicos\n",
        "\n",
        "df['SQ_CANDIDATO'].nunique()"
      ],
      "execution_count": 9,
      "outputs": [
        {
          "output_type": "execute_result",
          "data": {
            "text/plain": [
              "548339"
            ]
          },
          "metadata": {
            "tags": []
          },
          "execution_count": 9
        }
      ]
    },
    {
      "cell_type": "code",
      "metadata": {
        "id": "wnl-jxclaohw"
      },
      "source": [
        "# Elimando as linhas duplicadas\n",
        "df.drop_duplicates(keep='last', inplace=True)"
      ],
      "execution_count": 10,
      "outputs": []
    },
    {
      "cell_type": "code",
      "metadata": {
        "id": "_sheJI2WbC6j"
      },
      "source": [
        "#Juntando os csv do TSE com os bens dos candidatos do país todo, disponível em https://bit.ly/3lnh6Ge\n",
        "\n",
        "bens_cand = pd.read_csv('/content/drive/My Drive/eleicoes2020_dados_tse/eleições2020/bem_candidato_2020/bem_candidato_2020_BRASIL.csv', \n",
        "                        encoding='latin-1', index_col=None, low_memory=False, error_bad_lines=False, decimal=',',\n",
        "                        sep=';', quotechar='\"', usecols=['SG_UF', 'SG_UE','SQ_CANDIDATO','DS_BEM_CANDIDATO','VR_BEM_CANDIDATO'])"
      ],
      "execution_count": 11,
      "outputs": []
    },
    {
      "cell_type": "code",
      "metadata": {
        "id": "kq3tco3hbOV-",
        "outputId": "af2017b0-09e2-4c1a-d6d5-2dceca73e41b",
        "colab": {
          "base_uri": "https://localhost:8080/",
          "height": 204
        }
      },
      "source": [
        "bens_cand.head()"
      ],
      "execution_count": 12,
      "outputs": [
        {
          "output_type": "execute_result",
          "data": {
            "text/html": [
              "<div>\n",
              "<style scoped>\n",
              "    .dataframe tbody tr th:only-of-type {\n",
              "        vertical-align: middle;\n",
              "    }\n",
              "\n",
              "    .dataframe tbody tr th {\n",
              "        vertical-align: top;\n",
              "    }\n",
              "\n",
              "    .dataframe thead th {\n",
              "        text-align: right;\n",
              "    }\n",
              "</style>\n",
              "<table border=\"1\" class=\"dataframe\">\n",
              "  <thead>\n",
              "    <tr style=\"text-align: right;\">\n",
              "      <th></th>\n",
              "      <th>SG_UF</th>\n",
              "      <th>SG_UE</th>\n",
              "      <th>SQ_CANDIDATO</th>\n",
              "      <th>DS_BEM_CANDIDATO</th>\n",
              "      <th>VR_BEM_CANDIDATO</th>\n",
              "    </tr>\n",
              "  </thead>\n",
              "  <tbody>\n",
              "    <tr>\n",
              "      <th>0</th>\n",
              "      <td>SP</td>\n",
              "      <td>62693</td>\n",
              "      <td>250000666093</td>\n",
              "      <td>dinheiro em especie</td>\n",
              "      <td>30000.0</td>\n",
              "    </tr>\n",
              "    <tr>\n",
              "      <th>1</th>\n",
              "      <td>PB</td>\n",
              "      <td>20192</td>\n",
              "      <td>150000666102</td>\n",
              "      <td>FORD KA - 2015</td>\n",
              "      <td>30000.0</td>\n",
              "    </tr>\n",
              "    <tr>\n",
              "      <th>2</th>\n",
              "      <td>MG</td>\n",
              "      <td>43338</td>\n",
              "      <td>130000679355</td>\n",
              "      <td>VEICULO ONIX PLUS 2020</td>\n",
              "      <td>75060.0</td>\n",
              "    </tr>\n",
              "    <tr>\n",
              "      <th>3</th>\n",
              "      <td>SP</td>\n",
              "      <td>61778</td>\n",
              "      <td>250000679376</td>\n",
              "      <td>1% de quotas da empresa Orion Comércio de GLP ...</td>\n",
              "      <td>300.0</td>\n",
              "    </tr>\n",
              "    <tr>\n",
              "      <th>4</th>\n",
              "      <td>SC</td>\n",
              "      <td>80330</td>\n",
              "      <td>240000679388</td>\n",
              "      <td>CONTA CORRENTE VIACREDI</td>\n",
              "      <td>500.0</td>\n",
              "    </tr>\n",
              "  </tbody>\n",
              "</table>\n",
              "</div>"
            ],
            "text/plain": [
              "  SG_UF  ...  VR_BEM_CANDIDATO\n",
              "0    SP  ...           30000.0\n",
              "1    PB  ...           30000.0\n",
              "2    MG  ...           75060.0\n",
              "3    SP  ...             300.0\n",
              "4    SC  ...             500.0\n",
              "\n",
              "[5 rows x 5 columns]"
            ]
          },
          "metadata": {
            "tags": []
          },
          "execution_count": 12
        }
      ]
    },
    {
      "cell_type": "code",
      "metadata": {
        "id": "EX8sRo-PbOlU"
      },
      "source": [
        "bens_cand.columns = ['CODIGO_TSE' if x=='SG_UE' else x for x in bens_cand.columns] "
      ],
      "execution_count": 13,
      "outputs": []
    },
    {
      "cell_type": "code",
      "metadata": {
        "id": "6DcUIc8fbOsH",
        "outputId": "290ad6ef-f13b-4ab4-f17f-d990f89cac18",
        "colab": {
          "base_uri": "https://localhost:8080/",
          "height": 119
        }
      },
      "source": [
        "bens_cand.isnull().sum()"
      ],
      "execution_count": 14,
      "outputs": [
        {
          "output_type": "execute_result",
          "data": {
            "text/plain": [
              "SG_UF               0\n",
              "CODIGO_TSE          0\n",
              "SQ_CANDIDATO        0\n",
              "DS_BEM_CANDIDATO    0\n",
              "VR_BEM_CANDIDATO    0\n",
              "dtype: int64"
            ]
          },
          "metadata": {
            "tags": []
          },
          "execution_count": 14
        }
      ]
    },
    {
      "cell_type": "code",
      "metadata": {
        "id": "uhAtVqrhbOx7",
        "outputId": "500e5a5d-032b-46bf-e3aa-bb222a29bb3b",
        "colab": {
          "base_uri": "https://localhost:8080/",
          "height": 221
        }
      },
      "source": [
        "bens_cand.info()"
      ],
      "execution_count": 15,
      "outputs": [
        {
          "output_type": "stream",
          "text": [
            "<class 'pandas.core.frame.DataFrame'>\n",
            "RangeIndex: 997298 entries, 0 to 997297\n",
            "Data columns (total 5 columns):\n",
            " #   Column            Non-Null Count   Dtype  \n",
            "---  ------            --------------   -----  \n",
            " 0   SG_UF             997298 non-null  object \n",
            " 1   CODIGO_TSE        997298 non-null  int64  \n",
            " 2   SQ_CANDIDATO      997298 non-null  int64  \n",
            " 3   DS_BEM_CANDIDATO  997298 non-null  object \n",
            " 4   VR_BEM_CANDIDATO  997298 non-null  float64\n",
            "dtypes: float64(1), int64(2), object(2)\n",
            "memory usage: 38.0+ MB\n"
          ],
          "name": "stdout"
        }
      ]
    },
    {
      "cell_type": "code",
      "metadata": {
        "id": "uZJ7U0QZxGj7",
        "outputId": "acd80555-36ef-4281-b49c-1c584d228899",
        "colab": {
          "base_uri": "https://localhost:8080/",
          "height": 450
        }
      },
      "source": [
        "# Somando os bens por candidato \n",
        "\n",
        "df_bens = pd.pivot_table(bens_cand,index=['SQ_CANDIDATO'],aggfunc={'VR_BEM_CANDIDATO':np.sum})\n",
        "df_bens   "
      ],
      "execution_count": 16,
      "outputs": [
        {
          "output_type": "execute_result",
          "data": {
            "text/html": [
              "<div>\n",
              "<style scoped>\n",
              "    .dataframe tbody tr th:only-of-type {\n",
              "        vertical-align: middle;\n",
              "    }\n",
              "\n",
              "    .dataframe tbody tr th {\n",
              "        vertical-align: top;\n",
              "    }\n",
              "\n",
              "    .dataframe thead th {\n",
              "        text-align: right;\n",
              "    }\n",
              "</style>\n",
              "<table border=\"1\" class=\"dataframe\">\n",
              "  <thead>\n",
              "    <tr style=\"text-align: right;\">\n",
              "      <th></th>\n",
              "      <th>VR_BEM_CANDIDATO</th>\n",
              "    </tr>\n",
              "    <tr>\n",
              "      <th>SQ_CANDIDATO</th>\n",
              "      <th></th>\n",
              "    </tr>\n",
              "  </thead>\n",
              "  <tbody>\n",
              "    <tr>\n",
              "      <th>10000641345</th>\n",
              "      <td>319500.00</td>\n",
              "    </tr>\n",
              "    <tr>\n",
              "      <th>10000641349</th>\n",
              "      <td>179000.00</td>\n",
              "    </tr>\n",
              "    <tr>\n",
              "      <th>10000641351</th>\n",
              "      <td>7000.00</td>\n",
              "    </tr>\n",
              "    <tr>\n",
              "      <th>10000641352</th>\n",
              "      <td>150000.00</td>\n",
              "    </tr>\n",
              "    <tr>\n",
              "      <th>10000641353</th>\n",
              "      <td>150000.00</td>\n",
              "    </tr>\n",
              "    <tr>\n",
              "      <th>...</th>\n",
              "      <td>...</td>\n",
              "    </tr>\n",
              "    <tr>\n",
              "      <th>270001259283</th>\n",
              "      <td>5000.00</td>\n",
              "    </tr>\n",
              "    <tr>\n",
              "      <th>270001259590</th>\n",
              "      <td>635000.00</td>\n",
              "    </tr>\n",
              "    <tr>\n",
              "      <th>270001259713</th>\n",
              "      <td>1500.00</td>\n",
              "    </tr>\n",
              "    <tr>\n",
              "      <th>270001260894</th>\n",
              "      <td>1294673.26</td>\n",
              "    </tr>\n",
              "    <tr>\n",
              "      <th>270001260976</th>\n",
              "      <td>80000.00</td>\n",
              "    </tr>\n",
              "  </tbody>\n",
              "</table>\n",
              "<p>335299 rows × 1 columns</p>\n",
              "</div>"
            ],
            "text/plain": [
              "              VR_BEM_CANDIDATO\n",
              "SQ_CANDIDATO                  \n",
              "10000641345          319500.00\n",
              "10000641349          179000.00\n",
              "10000641351            7000.00\n",
              "10000641352          150000.00\n",
              "10000641353          150000.00\n",
              "...                        ...\n",
              "270001259283           5000.00\n",
              "270001259590         635000.00\n",
              "270001259713           1500.00\n",
              "270001260894        1294673.26\n",
              "270001260976          80000.00\n",
              "\n",
              "[335299 rows x 1 columns]"
            ]
          },
          "metadata": {
            "tags": []
          },
          "execution_count": 16
        }
      ]
    },
    {
      "cell_type": "code",
      "metadata": {
        "id": "Tnb1xfbcbPDf",
        "outputId": "5a65ba62-a401-424d-bdb9-f43d3f37be86",
        "colab": {
          "base_uri": "https://localhost:8080/",
          "height": 452
        }
      },
      "source": [
        "#Criando a planilha final\n",
        "\n",
        "candidatos = df.merge(df_bens, on='SQ_CANDIDATO', how='left')\n",
        "candidatos.head(3).T"
      ],
      "execution_count": 17,
      "outputs": [
        {
          "output_type": "execute_result",
          "data": {
            "text/html": [
              "<div>\n",
              "<style scoped>\n",
              "    .dataframe tbody tr th:only-of-type {\n",
              "        vertical-align: middle;\n",
              "    }\n",
              "\n",
              "    .dataframe tbody tr th {\n",
              "        vertical-align: top;\n",
              "    }\n",
              "\n",
              "    .dataframe thead th {\n",
              "        text-align: right;\n",
              "    }\n",
              "</style>\n",
              "<table border=\"1\" class=\"dataframe\">\n",
              "  <thead>\n",
              "    <tr style=\"text-align: right;\">\n",
              "      <th></th>\n",
              "      <th>0</th>\n",
              "      <th>1</th>\n",
              "      <th>2</th>\n",
              "    </tr>\n",
              "  </thead>\n",
              "  <tbody>\n",
              "    <tr>\n",
              "      <th>NM_UE</th>\n",
              "      <td>MAURILÂNDIA</td>\n",
              "      <td>PALMEIRA DOS ÍNDIOS</td>\n",
              "      <td>JESÚPOLIS</td>\n",
              "    </tr>\n",
              "    <tr>\n",
              "      <th>DS_CARGO</th>\n",
              "      <td>VEREADOR</td>\n",
              "      <td>VEREADOR</td>\n",
              "      <td>VICE-PREFEITO</td>\n",
              "    </tr>\n",
              "    <tr>\n",
              "      <th>SQ_CANDIDATO</th>\n",
              "      <td>90001032264</td>\n",
              "      <td>20001022098</td>\n",
              "      <td>90000846770</td>\n",
              "    </tr>\n",
              "    <tr>\n",
              "      <th>NM_CANDIDATO</th>\n",
              "      <td>VALDINEI SILVA VIEIRA</td>\n",
              "      <td>CICERO JOAQUIM DOS SANTOS</td>\n",
              "      <td>MARCIO APARECIDO DA SILVA CAMARGO</td>\n",
              "    </tr>\n",
              "    <tr>\n",
              "      <th>NM_URNA_CANDIDATO</th>\n",
              "      <td>DINEI MOTOS</td>\n",
              "      <td>BARRERITO</td>\n",
              "      <td>MÁRCIO CAMARGO</td>\n",
              "    </tr>\n",
              "    <tr>\n",
              "      <th>SG_PARTIDO</th>\n",
              "      <td>MDB</td>\n",
              "      <td>PSB</td>\n",
              "      <td>PL</td>\n",
              "    </tr>\n",
              "    <tr>\n",
              "      <th>NR_IDADE_DATA_POSSE</th>\n",
              "      <td>40</td>\n",
              "      <td>57</td>\n",
              "      <td>43</td>\n",
              "    </tr>\n",
              "    <tr>\n",
              "      <th>DS_GENERO</th>\n",
              "      <td>MASCULINO</td>\n",
              "      <td>MASCULINO</td>\n",
              "      <td>MASCULINO</td>\n",
              "    </tr>\n",
              "    <tr>\n",
              "      <th>DS_GRAU_INSTRUCAO</th>\n",
              "      <td>ENSINO MÉDIO COMPLETO</td>\n",
              "      <td>ENSINO FUNDAMENTAL COMPLETO</td>\n",
              "      <td>SUPERIOR COMPLETO</td>\n",
              "    </tr>\n",
              "    <tr>\n",
              "      <th>DS_COR_RACA</th>\n",
              "      <td>PARDA</td>\n",
              "      <td>PARDA</td>\n",
              "      <td>BRANCA</td>\n",
              "    </tr>\n",
              "    <tr>\n",
              "      <th>DS_OCUPACAO</th>\n",
              "      <td>EMPRESÁRIO</td>\n",
              "      <td>OUTROS</td>\n",
              "      <td>VEREADOR</td>\n",
              "    </tr>\n",
              "    <tr>\n",
              "      <th>VR_DESPESA_MAX_CAMPANHA</th>\n",
              "      <td>17122</td>\n",
              "      <td>38798</td>\n",
              "      <td>-1</td>\n",
              "    </tr>\n",
              "    <tr>\n",
              "      <th>VR_BEM_CANDIDATO</th>\n",
              "      <td>40000</td>\n",
              "      <td>NaN</td>\n",
              "      <td>75000</td>\n",
              "    </tr>\n",
              "  </tbody>\n",
              "</table>\n",
              "</div>"
            ],
            "text/plain": [
              "                                             0  ...                                  2\n",
              "NM_UE                              MAURILÂNDIA  ...                          JESÚPOLIS\n",
              "DS_CARGO                              VEREADOR  ...                      VICE-PREFEITO\n",
              "SQ_CANDIDATO                       90001032264  ...                        90000846770\n",
              "NM_CANDIDATO             VALDINEI SILVA VIEIRA  ...  MARCIO APARECIDO DA SILVA CAMARGO\n",
              "NM_URNA_CANDIDATO                  DINEI MOTOS  ...                     MÁRCIO CAMARGO\n",
              "SG_PARTIDO                                 MDB  ...                                 PL\n",
              "NR_IDADE_DATA_POSSE                         40  ...                                 43\n",
              "DS_GENERO                            MASCULINO  ...                          MASCULINO\n",
              "DS_GRAU_INSTRUCAO        ENSINO MÉDIO COMPLETO  ...                  SUPERIOR COMPLETO\n",
              "DS_COR_RACA                              PARDA  ...                             BRANCA\n",
              "DS_OCUPACAO                         EMPRESÁRIO  ...                           VEREADOR\n",
              "VR_DESPESA_MAX_CAMPANHA                  17122  ...                                 -1\n",
              "VR_BEM_CANDIDATO                         40000  ...                              75000\n",
              "\n",
              "[13 rows x 3 columns]"
            ]
          },
          "metadata": {
            "tags": []
          },
          "execution_count": 17
        }
      ]
    },
    {
      "cell_type": "code",
      "metadata": {
        "id": "1pgLASeZzYo3",
        "outputId": "a1210da4-6665-4ae1-8528-585a143a8b7f",
        "colab": {
          "base_uri": "https://localhost:8080/",
          "height": 255
        }
      },
      "source": [
        "candidatos.isnull().sum()"
      ],
      "execution_count": 18,
      "outputs": [
        {
          "output_type": "execute_result",
          "data": {
            "text/plain": [
              "NM_UE                           0\n",
              "DS_CARGO                        0\n",
              "SQ_CANDIDATO                    0\n",
              "NM_CANDIDATO                    0\n",
              "NM_URNA_CANDIDATO               3\n",
              "SG_PARTIDO                      0\n",
              "NR_IDADE_DATA_POSSE             0\n",
              "DS_GENERO                       0\n",
              "DS_GRAU_INSTRUCAO               0\n",
              "DS_COR_RACA                     0\n",
              "DS_OCUPACAO                     0\n",
              "VR_DESPESA_MAX_CAMPANHA         0\n",
              "VR_BEM_CANDIDATO           213040\n",
              "dtype: int64"
            ]
          },
          "metadata": {
            "tags": []
          },
          "execution_count": 18
        }
      ]
    },
    {
      "cell_type": "code",
      "metadata": {
        "id": "y86KmBuvcaAI",
        "outputId": "cffa5076-be61-40af-b875-1490376d9bf5",
        "colab": {
          "base_uri": "https://localhost:8080/",
          "height": 357
        }
      },
      "source": [
        "candidatos.info()"
      ],
      "execution_count": 19,
      "outputs": [
        {
          "output_type": "stream",
          "text": [
            "<class 'pandas.core.frame.DataFrame'>\n",
            "Int64Index: 548339 entries, 0 to 548338\n",
            "Data columns (total 13 columns):\n",
            " #   Column                   Non-Null Count   Dtype  \n",
            "---  ------                   --------------   -----  \n",
            " 0   NM_UE                    548339 non-null  object \n",
            " 1   DS_CARGO                 548339 non-null  object \n",
            " 2   SQ_CANDIDATO             548339 non-null  int64  \n",
            " 3   NM_CANDIDATO             548339 non-null  object \n",
            " 4   NM_URNA_CANDIDATO        548336 non-null  object \n",
            " 5   SG_PARTIDO               548339 non-null  object \n",
            " 6   NR_IDADE_DATA_POSSE      548339 non-null  int64  \n",
            " 7   DS_GENERO                548339 non-null  object \n",
            " 8   DS_GRAU_INSTRUCAO        548339 non-null  object \n",
            " 9   DS_COR_RACA              548339 non-null  object \n",
            " 10  DS_OCUPACAO              548339 non-null  object \n",
            " 11  VR_DESPESA_MAX_CAMPANHA  548339 non-null  int64  \n",
            " 12  VR_BEM_CANDIDATO         335299 non-null  float64\n",
            "dtypes: float64(1), int64(3), object(9)\n",
            "memory usage: 58.6+ MB\n"
          ],
          "name": "stdout"
        }
      ]
    },
    {
      "cell_type": "code",
      "metadata": {
        "id": "0tiT1he9d-wH"
      },
      "source": [
        "#candidatos.drop_duplicates(keep='last', inplace=True)"
      ],
      "execution_count": 20,
      "outputs": []
    },
    {
      "cell_type": "code",
      "metadata": {
        "id": "LOUw_vxbcaPs",
        "outputId": "b39d031c-e585-4970-ced9-10a70c0e388b",
        "colab": {
          "base_uri": "https://localhost:8080/",
          "height": 34
        }
      },
      "source": [
        "#Checando se a quantidade de candidatos não foi alterada com o merge\n",
        "\n",
        "candidatos['SQ_CANDIDATO'].nunique()"
      ],
      "execution_count": 21,
      "outputs": [
        {
          "output_type": "execute_result",
          "data": {
            "text/plain": [
              "548339"
            ]
          },
          "metadata": {
            "tags": []
          },
          "execution_count": 21
        }
      ]
    },
    {
      "cell_type": "code",
      "metadata": {
        "id": "LzeYpVhecaHj",
        "outputId": "d34c26a1-9b7d-4e9d-94bf-5eae9fc68668",
        "colab": {
          "base_uri": "https://localhost:8080/",
          "height": 85
        }
      },
      "source": [
        "candidatos.groupby(by='DS_GENERO').size()"
      ],
      "execution_count": 22,
      "outputs": [
        {
          "output_type": "execute_result",
          "data": {
            "text/plain": [
              "DS_GENERO\n",
              "FEMININO     181848\n",
              "MASCULINO    366491\n",
              "dtype: int64"
            ]
          },
          "metadata": {
            "tags": []
          },
          "execution_count": 22
        }
      ]
    },
    {
      "cell_type": "code",
      "metadata": {
        "id": "7_3EXccBcaZz",
        "outputId": "dbeb0284-0941-40af-8743-f7734f33b3a3",
        "colab": {
          "base_uri": "https://localhost:8080/",
          "height": 51
        }
      },
      "source": [
        "#Printando a porcentagem de homens e mulheres candidatas e depois plotando\n",
        "\n",
        "print('candidatas:', ((181848/548339) *100))\n",
        "print('candidatos:', ((366491/548339) *100))"
      ],
      "execution_count": 23,
      "outputs": [
        {
          "output_type": "stream",
          "text": [
            "candidatas: 33.16342627462209\n",
            "candidatos: 66.83657372537792\n"
          ],
          "name": "stdout"
        }
      ]
    },
    {
      "cell_type": "code",
      "metadata": {
        "id": "QlQkq769cafz",
        "outputId": "bec550a5-2da8-4e17-d6bd-3d628f2f3c67",
        "colab": {
          "base_uri": "https://localhost:8080/",
          "height": 658
        }
      },
      "source": [
        "genero = df.groupby(by='DS_GENERO').size()\n",
        "genero.plot(kind ='bar')\n",
        "plt.show()"
      ],
      "execution_count": 24,
      "outputs": [
        {
          "output_type": "display_data",
          "data": {
            "image/png": "[encoded data removed]",
            "text/plain": [
              "<Figure size 1440x720 with 1 Axes>"
            ]
          },
          "metadata": {
            "tags": []
          }
        }
      ]
    },
    {
      "cell_type": "code",
      "metadata": {
        "id": "KpnRtKRAcamj",
        "outputId": "7ca08630-75e6-40bc-c055-ecc80df96eb0",
        "colab": {
          "base_uri": "https://localhost:8080/",
          "height": 153
        }
      },
      "source": [
        "df.groupby(by='DS_COR_RACA').size()"
      ],
      "execution_count": 25,
      "outputs": [
        {
          "output_type": "execute_result",
          "data": {
            "text/plain": [
              "DS_COR_RACA\n",
              "AMARELA             1946\n",
              "BRANCA            262048\n",
              "INDÍGENA            2173\n",
              "PARDA             216341\n",
              "PRETA              57345\n",
              "SEM INFORMAÇÃO      8486\n",
              "dtype: int64"
            ]
          },
          "metadata": {
            "tags": []
          },
          "execution_count": 25
        }
      ]
    },
    {
      "cell_type": "code",
      "metadata": {
        "id": "LWaIsRqlcatT"
      },
      "source": [
        "raca = df.groupby(by='DS_COR_RACA').size()"
      ],
      "execution_count": 26,
      "outputs": []
    },
    {
      "cell_type": "code",
      "metadata": {
        "id": "571RSfxhcazr",
        "outputId": "413bf934-6e46-4c63-d7f0-5098c718ddcd",
        "colab": {
          "base_uri": "https://localhost:8080/",
          "height": 119
        }
      },
      "source": [
        "print('candidatos autodeclarados de origem asiatica:', ((1946/ 548339) *100))\n",
        "print('candidatos autodeclarados brancos:', ((262048/ 548339) *100))\n",
        "print('candidatos autodeclarados indigenas:', ((2173/ 548339) *100))\n",
        "print('candidatos autodeclarados pardos:', ((216341/ 548339) *100))\n",
        "print('candidatos autodeclarados pretos:', ((57345/ 548339) *100))\n",
        "print('candidatos que não declararam raça/etnia:', ((8486/ 548339) *100))"
      ],
      "execution_count": 27,
      "outputs": [
        {
          "output_type": "stream",
          "text": [
            "candidatos autodeclarados de origem asiatica: 0.35488994946556784\n",
            "candidatos autodeclarados brancos: 47.7894149422164\n",
            "candidatos autodeclarados indigenas: 0.39628769793868396\n",
            "candidatos autodeclarados pardos: 39.453877984239675\n",
            "candidatos autodeclarados pretos: 10.457946635201946\n",
            "candidatos que não declararam raça/etnia: 1.5475827909377229\n"
          ],
          "name": "stdout"
        }
      ]
    },
    {
      "cell_type": "code",
      "metadata": {
        "id": "6vqf6el3ca7_",
        "outputId": "2a30c2b1-7eed-4ff6-f909-a7b1ea233e6f",
        "colab": {
          "base_uri": "https://localhost:8080/",
          "height": 591
        }
      },
      "source": [
        "raca.sort_values(ascending=True).plot(kind='barh')\n",
        "plt.show()"
      ],
      "execution_count": 28,
      "outputs": [
        {
          "output_type": "display_data",
          "data": {
            "image/png": "[encoded data removed]",
            "text/plain": [
              "<Figure size 1440x720 with 1 Axes>"
            ]
          },
          "metadata": {
            "tags": []
          }
        }
      ]
    },
    {
      "cell_type": "code",
      "metadata": {
        "id": "0yHhvYxp-snk",
        "outputId": "91957675-6db0-4beb-8fea-b9b5c144a777",
        "colab": {
          "base_uri": "https://localhost:8080/",
          "height": 221
        }
      },
      "source": [
        "candidatos['DS_OCUPACAO'].value_counts()"
      ],
      "execution_count": 29,
      "outputs": [
        {
          "output_type": "execute_result",
          "data": {
            "text/plain": [
              "OUTROS                          116846\n",
              "AGRICULTOR                       37464\n",
              "SERVIDOR PÚBLICO MUNICIPAL       35299\n",
              "EMPRESÁRIO                       32922\n",
              "COMERCIANTE                      30271\n",
              "                                 ...  \n",
              "DIPLOMATA                            1\n",
              "CONTROLADOR DE TRÁFEGO AÉREO         1\n",
              "GEOFÍSICO                            1\n",
              "METEOROLOGISTA                       1\n",
              "MINISTRO DO PODER JUDICIÁRIO         1\n",
              "Name: DS_OCUPACAO, Length: 243, dtype: int64"
            ]
          },
          "metadata": {
            "tags": []
          },
          "execution_count": 29
        }
      ]
    },
    {
      "cell_type": "code",
      "metadata": {
        "id": "MNxURnVUcbB6",
        "outputId": "9a69a569-f912-4423-d76a-37bd31fcc036",
        "colab": {
          "base_uri": "https://localhost:8080/",
          "height": 238
        }
      },
      "source": [
        "candidatos.groupby(by='DS_GENERO')['DS_OCUPACAO'].value_counts()"
      ],
      "execution_count": 30,
      "outputs": [
        {
          "output_type": "execute_result",
          "data": {
            "text/plain": [
              "DS_GENERO  DS_OCUPACAO                                                           \n",
              "FEMININO   OUTROS                                                                    40456\n",
              "           DONA DE CASA                                                              21267\n",
              "           SERVIDOR PÚBLICO MUNICIPAL                                                12946\n",
              "           AGRICULTOR                                                                 9186\n",
              "           PROFESSOR DE ENSINO FUNDAMENTAL                                            7896\n",
              "                                                                                     ...  \n",
              "MASCULINO  TRABALHADOR DE TRATAMENTO DE FUMO E DE FABRICAÇÃO DE CIGARROS/CHARUTOS        3\n",
              "           SENADOR                                                                       2\n",
              "           CONTROLADOR DE TRÁFEGO AÉREO                                                  1\n",
              "           DIPLOMATA                                                                     1\n",
              "           GEOFÍSICO                                                                     1\n",
              "Name: DS_OCUPACAO, Length: 467, dtype: int64"
            ]
          },
          "metadata": {
            "tags": []
          },
          "execution_count": 30
        }
      ]
    },
    {
      "cell_type": "code",
      "metadata": {
        "id": "Z6aQv89ycbI-",
        "outputId": "8ee3898c-b916-4dac-aea2-53406757c013",
        "colab": {
          "base_uri": "https://localhost:8080/",
          "height": 323
        }
      },
      "source": [
        "candidatos.groupby(by='DS_GENERO')['DS_GRAU_INSTRUCAO'].value_counts()"
      ],
      "execution_count": 31,
      "outputs": [
        {
          "output_type": "execute_result",
          "data": {
            "text/plain": [
              "DS_GENERO  DS_GRAU_INSTRUCAO            \n",
              "FEMININO   ENSINO MÉDIO COMPLETO             70286\n",
              "           SUPERIOR COMPLETO                 52553\n",
              "           ENSINO FUNDAMENTAL COMPLETO       18330\n",
              "           ENSINO FUNDAMENTAL INCOMPLETO     18018\n",
              "           SUPERIOR INCOMPLETO                8811\n",
              "           ENSINO MÉDIO INCOMPLETO            8602\n",
              "           LÊ E ESCREVE                       5242\n",
              "           ANALFABETO                            6\n",
              "MASCULINO  ENSINO MÉDIO COMPLETO            138685\n",
              "           SUPERIOR COMPLETO                 81108\n",
              "           ENSINO FUNDAMENTAL INCOMPLETO     51914\n",
              "           ENSINO FUNDAMENTAL COMPLETO       48502\n",
              "           ENSINO MÉDIO INCOMPLETO           18606\n",
              "           SUPERIOR INCOMPLETO               15699\n",
              "           LÊ E ESCREVE                      11963\n",
              "           ANALFABETO                           14\n",
              "Name: DS_GRAU_INSTRUCAO, dtype: int64"
            ]
          },
          "metadata": {
            "tags": []
          },
          "execution_count": 31
        }
      ]
    },
    {
      "cell_type": "code",
      "metadata": {
        "id": "FCR6THpqi5MF",
        "outputId": "a3df1600-da93-4477-eec5-116f0fca4033",
        "colab": {
          "base_uri": "https://localhost:8080/",
          "height": 541
        }
      },
      "source": [
        "candidatos.groupby(by='DS_GENERO')['DS_GRAU_INSTRUCAO'].value_counts().sort_values(ascending=True).plot(kind='barh')"
      ],
      "execution_count": 32,
      "outputs": [
        {
          "output_type": "execute_result",
          "data": {
            "text/plain": [
              "<matplotlib.axes._subplots.AxesSubplot at 0x7eff7ffa1278>"
            ]
          },
          "metadata": {
            "tags": []
          },
          "execution_count": 32
        },
        {
          "output_type": "display_data",
          "data": {
            "image/png": "[encoded data removed]",
            "text/plain": [
              "<Figure size 1440x720 with 1 Axes>"
            ]
          },
          "metadata": {
            "tags": []
          }
        }
      ]
    },
    {
      "cell_type": "code",
      "metadata": {
        "id": "jmKrVlgrTVKW",
        "outputId": "e9cb2bc7-4627-4774-c5de-556e21ed33b5",
        "colab": {
          "base_uri": "https://localhost:8080/",
          "height": 1000
        }
      },
      "source": [
        "profissoes = candidatos[['DS_OCUPACAO']].drop_duplicates().sort_values('DS_OCUPACAO').set_index('DS_OCUPACAO')\n",
        "profissoes.head(50)"
      ],
      "execution_count": 33,
      "outputs": [
        {
          "output_type": "execute_result",
          "data": {
            "text/html": [
              "<div>\n",
              "<style scoped>\n",
              "    .dataframe tbody tr th:only-of-type {\n",
              "        vertical-align: middle;\n",
              "    }\n",
              "\n",
              "    .dataframe tbody tr th {\n",
              "        vertical-align: top;\n",
              "    }\n",
              "\n",
              "    .dataframe thead th {\n",
              "        text-align: right;\n",
              "    }\n",
              "</style>\n",
              "<table border=\"1\" class=\"dataframe\">\n",
              "  <thead>\n",
              "    <tr style=\"text-align: right;\">\n",
              "      <th></th>\n",
              "    </tr>\n",
              "    <tr>\n",
              "      <th>DS_OCUPACAO</th>\n",
              "    </tr>\n",
              "  </thead>\n",
              "  <tbody>\n",
              "    <tr>\n",
              "      <th>ADMINISTRADOR</th>\n",
              "    </tr>\n",
              "    <tr>\n",
              "      <th>ADVOGADO</th>\n",
              "    </tr>\n",
              "    <tr>\n",
              "      <th>AGENCIADOR DE PROPAGANDA</th>\n",
              "    </tr>\n",
              "    <tr>\n",
              "      <th>AGENTE ADMINISTRATIVO</th>\n",
              "    </tr>\n",
              "    <tr>\n",
              "      <th>AGENTE DE SAÚDE E SANITARISTA</th>\n",
              "    </tr>\n",
              "    <tr>\n",
              "      <th>AGENTE DE SERVIÇOS FUNERÁRIOS E EMBALSAMADOR</th>\n",
              "    </tr>\n",
              "    <tr>\n",
              "      <th>AGENTE DE VIAGEM</th>\n",
              "    </tr>\n",
              "    <tr>\n",
              "      <th>AGENTE POSTAL</th>\n",
              "    </tr>\n",
              "    <tr>\n",
              "      <th>AGRICULTOR</th>\n",
              "    </tr>\n",
              "    <tr>\n",
              "      <th>AGRÔNOMO</th>\n",
              "    </tr>\n",
              "    <tr>\n",
              "      <th>ALFAIATE E COSTUREIRO</th>\n",
              "    </tr>\n",
              "    <tr>\n",
              "      <th>ALMOXARIFE</th>\n",
              "    </tr>\n",
              "    <tr>\n",
              "      <th>ANALISTA DE SISTEMAS</th>\n",
              "    </tr>\n",
              "    <tr>\n",
              "      <th>ANTROPÓLOGO</th>\n",
              "    </tr>\n",
              "    <tr>\n",
              "      <th>APOSENTADO (EXCETO SERVIDOR PÚBLICO)</th>\n",
              "    </tr>\n",
              "    <tr>\n",
              "      <th>ARQUEÓLOGO</th>\n",
              "    </tr>\n",
              "    <tr>\n",
              "      <th>ARQUITETO</th>\n",
              "    </tr>\n",
              "    <tr>\n",
              "      <th>ARQUIVISTA E MUSEÓLOGO</th>\n",
              "    </tr>\n",
              "    <tr>\n",
              "      <th>ARTESÃO</th>\n",
              "    </tr>\n",
              "    <tr>\n",
              "      <th>ARTISTA DE CIRCO</th>\n",
              "    </tr>\n",
              "    <tr>\n",
              "      <th>ARTISTA PLÁSTICO E ASSEMELHADOS</th>\n",
              "    </tr>\n",
              "    <tr>\n",
              "      <th>ASSISTENTE SOCIAL</th>\n",
              "    </tr>\n",
              "    <tr>\n",
              "      <th>ASTRÓLOGO</th>\n",
              "    </tr>\n",
              "    <tr>\n",
              "      <th>ASTRÔNOMO</th>\n",
              "    </tr>\n",
              "    <tr>\n",
              "      <th>ATENDENTE DE LANCHONETE E RESTAURANTE</th>\n",
              "    </tr>\n",
              "    <tr>\n",
              "      <th>ATLETA PROFISSIONAL E TÉCNICO EM DESPORTOS</th>\n",
              "    </tr>\n",
              "    <tr>\n",
              "      <th>ATOR E DIRETOR DE ESPETÁCULOS PÚBLICOS</th>\n",
              "    </tr>\n",
              "    <tr>\n",
              "      <th>AUXILIAR DE ESCRITÓRIO E ASSEMELHADOS</th>\n",
              "    </tr>\n",
              "    <tr>\n",
              "      <th>AUXILIAR DE LABORATÓRIO</th>\n",
              "    </tr>\n",
              "    <tr>\n",
              "      <th>BACTERIOLOGISTA E ASSEMELHADOS</th>\n",
              "    </tr>\n",
              "    <tr>\n",
              "      <th>BANCÁRIO E ECONOMIÁRIO</th>\n",
              "    </tr>\n",
              "    <tr>\n",
              "      <th>BIBLIOTECÁRIO</th>\n",
              "    </tr>\n",
              "    <tr>\n",
              "      <th>BIOMÉDICO</th>\n",
              "    </tr>\n",
              "    <tr>\n",
              "      <th>BIÓLOGO</th>\n",
              "    </tr>\n",
              "    <tr>\n",
              "      <th>BOMBEIRO CIVIL</th>\n",
              "    </tr>\n",
              "    <tr>\n",
              "      <th>BOMBEIRO E INSTALADOR DE GÁS, ÁGUA, ESGOTO E ASSEMELHADOS</th>\n",
              "    </tr>\n",
              "    <tr>\n",
              "      <th>BOMBEIRO MILITAR</th>\n",
              "    </tr>\n",
              "    <tr>\n",
              "      <th>CABELEIREIRO E BARBEIRO</th>\n",
              "    </tr>\n",
              "    <tr>\n",
              "      <th>CANTOR E COMPOSITOR</th>\n",
              "    </tr>\n",
              "    <tr>\n",
              "      <th>CAPITALISTA DE ATIVOS FINANCEIROS</th>\n",
              "    </tr>\n",
              "    <tr>\n",
              "      <th>CARPINTEIRO, MARCENEIRO E ASSEMELHADOS</th>\n",
              "    </tr>\n",
              "    <tr>\n",
              "      <th>CARVOEIRO</th>\n",
              "    </tr>\n",
              "    <tr>\n",
              "      <th>CATADOR DE RECICLÁVEIS</th>\n",
              "    </tr>\n",
              "    <tr>\n",
              "      <th>CERAMISTA E OLEIRO</th>\n",
              "    </tr>\n",
              "    <tr>\n",
              "      <th>CHAPELEIRO</th>\n",
              "    </tr>\n",
              "    <tr>\n",
              "      <th>CHAVEIRO</th>\n",
              "    </tr>\n",
              "    <tr>\n",
              "      <th>CIENTISTA POLÍTICO</th>\n",
              "    </tr>\n",
              "    <tr>\n",
              "      <th>COBRADOR DE TRANSPORTE COLETIVO</th>\n",
              "    </tr>\n",
              "    <tr>\n",
              "      <th>COMANDANTE DE EMBARCAÇÕES</th>\n",
              "    </tr>\n",
              "    <tr>\n",
              "      <th>COMERCIANTE</th>\n",
              "    </tr>\n",
              "  </tbody>\n",
              "</table>\n",
              "</div>"
            ],
            "text/plain": [
              "Empty DataFrame\n",
              "Columns: []\n",
              "Index: [ADMINISTRADOR, ADVOGADO, AGENCIADOR DE PROPAGANDA, AGENTE ADMINISTRATIVO, AGENTE DE SAÚDE E SANITARISTA, AGENTE DE SERVIÇOS FUNERÁRIOS E EMBALSAMADOR, AGENTE DE VIAGEM, AGENTE POSTAL, AGRICULTOR, AGRÔNOMO, ALFAIATE E COSTUREIRO, ALMOXARIFE, ANALISTA DE SISTEMAS, ANTROPÓLOGO, APOSENTADO (EXCETO SERVIDOR PÚBLICO), ARQUEÓLOGO, ARQUITETO, ARQUIVISTA E MUSEÓLOGO, ARTESÃO, ARTISTA DE CIRCO, ARTISTA PLÁSTICO E ASSEMELHADOS, ASSISTENTE SOCIAL, ASTRÓLOGO, ASTRÔNOMO, ATENDENTE DE LANCHONETE E RESTAURANTE, ATLETA PROFISSIONAL E TÉCNICO EM DESPORTOS, ATOR E DIRETOR DE ESPETÁCULOS PÚBLICOS, AUXILIAR DE ESCRITÓRIO E ASSEMELHADOS, AUXILIAR DE LABORATÓRIO, BACTERIOLOGISTA E ASSEMELHADOS, BANCÁRIO E ECONOMIÁRIO, BIBLIOTECÁRIO, BIOMÉDICO, BIÓLOGO, BOMBEIRO CIVIL, BOMBEIRO E INSTALADOR DE GÁS, ÁGUA, ESGOTO E ASSEMELHADOS, BOMBEIRO MILITAR, CABELEIREIRO E BARBEIRO, CANTOR E COMPOSITOR, CAPITALISTA DE ATIVOS FINANCEIROS, CARPINTEIRO, MARCENEIRO E ASSEMELHADOS, CARVOEIRO, CATADOR DE RECICLÁVEIS, CERAMISTA E OLEIRO, CHAPELEIRO, CHAVEIRO, CIENTISTA POLÍTICO, COBRADOR DE TRANSPORTE COLETIVO, COMANDANTE DE EMBARCAÇÕES, COMERCIANTE]"
            ]
          },
          "metadata": {
            "tags": []
          },
          "execution_count": 33
        }
      ]
    },
    {
      "cell_type": "code",
      "metadata": {
        "id": "JC2JUGjQpQYf",
        "outputId": "c2d0db8c-30f5-47ea-c499-328d6dafc14a",
        "colab": {
          "base_uri": "https://localhost:8080/",
          "height": 762
        }
      },
      "source": [
        "# Procurando candidatos que são policiais\n",
        "policial = candidatos[candidatos['DS_OCUPACAO'].str.contains('POLICIAL')]\n",
        "policial"
      ],
      "execution_count": 34,
      "outputs": [
        {
          "output_type": "execute_result",
          "data": {
            "text/html": [
              "<div>\n",
              "<style scoped>\n",
              "    .dataframe tbody tr th:only-of-type {\n",
              "        vertical-align: middle;\n",
              "    }\n",
              "\n",
              "    .dataframe tbody tr th {\n",
              "        vertical-align: top;\n",
              "    }\n",
              "\n",
              "    .dataframe thead th {\n",
              "        text-align: right;\n",
              "    }\n",
              "</style>\n",
              "<table border=\"1\" class=\"dataframe\">\n",
              "  <thead>\n",
              "    <tr style=\"text-align: right;\">\n",
              "      <th></th>\n",
              "      <th>NM_UE</th>\n",
              "      <th>DS_CARGO</th>\n",
              "      <th>SQ_CANDIDATO</th>\n",
              "      <th>NM_CANDIDATO</th>\n",
              "      <th>NM_URNA_CANDIDATO</th>\n",
              "      <th>SG_PARTIDO</th>\n",
              "      <th>NR_IDADE_DATA_POSSE</th>\n",
              "      <th>DS_GENERO</th>\n",
              "      <th>DS_GRAU_INSTRUCAO</th>\n",
              "      <th>DS_COR_RACA</th>\n",
              "      <th>DS_OCUPACAO</th>\n",
              "      <th>VR_DESPESA_MAX_CAMPANHA</th>\n",
              "      <th>VR_BEM_CANDIDATO</th>\n",
              "    </tr>\n",
              "  </thead>\n",
              "  <tbody>\n",
              "    <tr>\n",
              "      <th>27</th>\n",
              "      <td>SÃO LOURENÇO DA SERRA</td>\n",
              "      <td>VEREADOR</td>\n",
              "      <td>250001207271</td>\n",
              "      <td>WELLINGTON EMMANUEL CAETANO</td>\n",
              "      <td>CABO EMANNUEL PM</td>\n",
              "      <td>PODE</td>\n",
              "      <td>36</td>\n",
              "      <td>MASCULINO</td>\n",
              "      <td>SUPERIOR INCOMPLETO</td>\n",
              "      <td>PARDA</td>\n",
              "      <td>POLICIAL MILITAR</td>\n",
              "      <td>27875</td>\n",
              "      <td>NaN</td>\n",
              "    </tr>\n",
              "    <tr>\n",
              "      <th>68</th>\n",
              "      <td>JAPURÁ</td>\n",
              "      <td>VEREADOR</td>\n",
              "      <td>40001077370</td>\n",
              "      <td>PEDRO PAIVA DA SILVA</td>\n",
              "      <td>P PAIVA</td>\n",
              "      <td>PSD</td>\n",
              "      <td>56</td>\n",
              "      <td>MASCULINO</td>\n",
              "      <td>ENSINO MÉDIO COMPLETO</td>\n",
              "      <td>PARDA</td>\n",
              "      <td>POLICIAL MILITAR</td>\n",
              "      <td>12308</td>\n",
              "      <td>560000.0</td>\n",
              "    </tr>\n",
              "    <tr>\n",
              "      <th>70</th>\n",
              "      <td>TRINDADE</td>\n",
              "      <td>VEREADOR</td>\n",
              "      <td>90000955509</td>\n",
              "      <td>CLEIDIOMAR SEABRA SANTANA</td>\n",
              "      <td>SARGENTO SEABRA</td>\n",
              "      <td>PSDB</td>\n",
              "      <td>53</td>\n",
              "      <td>MASCULINO</td>\n",
              "      <td>ENSINO FUNDAMENTAL COMPLETO</td>\n",
              "      <td>PARDA</td>\n",
              "      <td>POLICIAL MILITAR</td>\n",
              "      <td>69693</td>\n",
              "      <td>NaN</td>\n",
              "    </tr>\n",
              "    <tr>\n",
              "      <th>145</th>\n",
              "      <td>ARAUÁ</td>\n",
              "      <td>VEREADOR</td>\n",
              "      <td>260000874685</td>\n",
              "      <td>JOSEVALDO BATISTA MOREIRA</td>\n",
              "      <td>VENTINHA</td>\n",
              "      <td>PSB</td>\n",
              "      <td>49</td>\n",
              "      <td>MASCULINO</td>\n",
              "      <td>SUPERIOR COMPLETO</td>\n",
              "      <td>BRANCA</td>\n",
              "      <td>POLICIAL MILITAR</td>\n",
              "      <td>12308</td>\n",
              "      <td>8000.0</td>\n",
              "    </tr>\n",
              "    <tr>\n",
              "      <th>220</th>\n",
              "      <td>MILHÃ</td>\n",
              "      <td>VEREADOR</td>\n",
              "      <td>60001195187</td>\n",
              "      <td>VAGNER CHARLES DA SILVA</td>\n",
              "      <td>VAGNER CHARLES</td>\n",
              "      <td>PL</td>\n",
              "      <td>52</td>\n",
              "      <td>MASCULINO</td>\n",
              "      <td>ENSINO MÉDIO COMPLETO</td>\n",
              "      <td>PARDA</td>\n",
              "      <td>POLICIAL MILITAR</td>\n",
              "      <td>12308</td>\n",
              "      <td>32500.0</td>\n",
              "    </tr>\n",
              "    <tr>\n",
              "      <th>...</th>\n",
              "      <td>...</td>\n",
              "      <td>...</td>\n",
              "      <td>...</td>\n",
              "      <td>...</td>\n",
              "      <td>...</td>\n",
              "      <td>...</td>\n",
              "      <td>...</td>\n",
              "      <td>...</td>\n",
              "      <td>...</td>\n",
              "      <td>...</td>\n",
              "      <td>...</td>\n",
              "      <td>...</td>\n",
              "      <td>...</td>\n",
              "    </tr>\n",
              "    <tr>\n",
              "      <th>547963</th>\n",
              "      <td>LAGOA DO CARRO</td>\n",
              "      <td>VEREADOR</td>\n",
              "      <td>170001074736</td>\n",
              "      <td>EDIMILSON RODRIGUES DE SOUZA</td>\n",
              "      <td>NENA POLICIAL</td>\n",
              "      <td>PATRIOTA</td>\n",
              "      <td>55</td>\n",
              "      <td>MASCULINO</td>\n",
              "      <td>ENSINO MÉDIO COMPLETO</td>\n",
              "      <td>PARDA</td>\n",
              "      <td>POLICIAL MILITAR</td>\n",
              "      <td>12308</td>\n",
              "      <td>NaN</td>\n",
              "    </tr>\n",
              "    <tr>\n",
              "      <th>547982</th>\n",
              "      <td>RIO DE JANEIRO</td>\n",
              "      <td>VEREADOR</td>\n",
              "      <td>190000944652</td>\n",
              "      <td>WERLEIS FIGUEIRA  DE AGUIAR</td>\n",
              "      <td>AGUIAR</td>\n",
              "      <td>PSD</td>\n",
              "      <td>39</td>\n",
              "      <td>MASCULINO</td>\n",
              "      <td>SUPERIOR COMPLETO</td>\n",
              "      <td>BRANCA</td>\n",
              "      <td>POLICIAL MILITAR</td>\n",
              "      <td>1594577</td>\n",
              "      <td>NaN</td>\n",
              "    </tr>\n",
              "    <tr>\n",
              "      <th>547997</th>\n",
              "      <td>CAMPOS DOS GOYTACAZES</td>\n",
              "      <td>VEREADOR</td>\n",
              "      <td>190001014554</td>\n",
              "      <td>EDSON DOS SANTOS FARIA</td>\n",
              "      <td>EDSON SANTOS</td>\n",
              "      <td>DC</td>\n",
              "      <td>55</td>\n",
              "      <td>MASCULINO</td>\n",
              "      <td>ENSINO MÉDIO COMPLETO</td>\n",
              "      <td>PARDA</td>\n",
              "      <td>POLICIAL MILITAR</td>\n",
              "      <td>319311</td>\n",
              "      <td>NaN</td>\n",
              "    </tr>\n",
              "    <tr>\n",
              "      <th>548074</th>\n",
              "      <td>BOM JESUS DO ITABAPOANA</td>\n",
              "      <td>VEREADOR</td>\n",
              "      <td>190001072005</td>\n",
              "      <td>ADALBERTO SERAFIM QUINTAL</td>\n",
              "      <td>ADALBERTO SERAFIM</td>\n",
              "      <td>PSB</td>\n",
              "      <td>51</td>\n",
              "      <td>MASCULINO</td>\n",
              "      <td>SUPERIOR COMPLETO</td>\n",
              "      <td>BRANCA</td>\n",
              "      <td>POLICIAL CIVIL</td>\n",
              "      <td>21120</td>\n",
              "      <td>426500.0</td>\n",
              "    </tr>\n",
              "    <tr>\n",
              "      <th>548093</th>\n",
              "      <td>PIRAPORA DO BOM JESUS</td>\n",
              "      <td>VEREADOR</td>\n",
              "      <td>250001250672</td>\n",
              "      <td>ELTON SOARES COELHO</td>\n",
              "      <td>ELTON COELHO</td>\n",
              "      <td>PSDB</td>\n",
              "      <td>41</td>\n",
              "      <td>MASCULINO</td>\n",
              "      <td>ENSINO MÉDIO COMPLETO</td>\n",
              "      <td>PARDA</td>\n",
              "      <td>POLICIAL MILITAR</td>\n",
              "      <td>12308</td>\n",
              "      <td>9000.0</td>\n",
              "    </tr>\n",
              "  </tbody>\n",
              "</table>\n",
              "<p>4498 rows × 13 columns</p>\n",
              "</div>"
            ],
            "text/plain": [
              "                          NM_UE  ... VR_BEM_CANDIDATO\n",
              "27        SÃO LOURENÇO DA SERRA  ...              NaN\n",
              "68                       JAPURÁ  ...         560000.0\n",
              "70                     TRINDADE  ...              NaN\n",
              "145                       ARAUÁ  ...           8000.0\n",
              "220                       MILHÃ  ...          32500.0\n",
              "...                         ...  ...              ...\n",
              "547963           LAGOA DO CARRO  ...              NaN\n",
              "547982           RIO DE JANEIRO  ...              NaN\n",
              "547997    CAMPOS DOS GOYTACAZES  ...              NaN\n",
              "548074  BOM JESUS DO ITABAPOANA  ...         426500.0\n",
              "548093    PIRAPORA DO BOM JESUS  ...           9000.0\n",
              "\n",
              "[4498 rows x 13 columns]"
            ]
          },
          "metadata": {
            "tags": []
          },
          "execution_count": 34
        }
      ]
    },
    {
      "cell_type": "code",
      "metadata": {
        "id": "Vu1LvgMCi52o",
        "outputId": "6b4fcf38-b2da-4ba9-bfae-bc8915069b76",
        "colab": {
          "base_uri": "https://localhost:8080/",
          "height": 762
        }
      },
      "source": [
        "candidatos[candidatos['DS_OCUPACAO'] == 'EMPRESÁRIO']"
      ],
      "execution_count": 35,
      "outputs": [
        {
          "output_type": "execute_result",
          "data": {
            "text/html": [
              "<div>\n",
              "<style scoped>\n",
              "    .dataframe tbody tr th:only-of-type {\n",
              "        vertical-align: middle;\n",
              "    }\n",
              "\n",
              "    .dataframe tbody tr th {\n",
              "        vertical-align: top;\n",
              "    }\n",
              "\n",
              "    .dataframe thead th {\n",
              "        text-align: right;\n",
              "    }\n",
              "</style>\n",
              "<table border=\"1\" class=\"dataframe\">\n",
              "  <thead>\n",
              "    <tr style=\"text-align: right;\">\n",
              "      <th></th>\n",
              "      <th>NM_UE</th>\n",
              "      <th>DS_CARGO</th>\n",
              "      <th>SQ_CANDIDATO</th>\n",
              "      <th>NM_CANDIDATO</th>\n",
              "      <th>NM_URNA_CANDIDATO</th>\n",
              "      <th>SG_PARTIDO</th>\n",
              "      <th>NR_IDADE_DATA_POSSE</th>\n",
              "      <th>DS_GENERO</th>\n",
              "      <th>DS_GRAU_INSTRUCAO</th>\n",
              "      <th>DS_COR_RACA</th>\n",
              "      <th>DS_OCUPACAO</th>\n",
              "      <th>VR_DESPESA_MAX_CAMPANHA</th>\n",
              "      <th>VR_BEM_CANDIDATO</th>\n",
              "    </tr>\n",
              "  </thead>\n",
              "  <tbody>\n",
              "    <tr>\n",
              "      <th>0</th>\n",
              "      <td>MAURILÂNDIA</td>\n",
              "      <td>VEREADOR</td>\n",
              "      <td>90001032264</td>\n",
              "      <td>VALDINEI SILVA VIEIRA</td>\n",
              "      <td>DINEI MOTOS</td>\n",
              "      <td>MDB</td>\n",
              "      <td>40</td>\n",
              "      <td>MASCULINO</td>\n",
              "      <td>ENSINO MÉDIO COMPLETO</td>\n",
              "      <td>PARDA</td>\n",
              "      <td>EMPRESÁRIO</td>\n",
              "      <td>17122</td>\n",
              "      <td>40000.00</td>\n",
              "    </tr>\n",
              "    <tr>\n",
              "      <th>8</th>\n",
              "      <td>ANDRADINA</td>\n",
              "      <td>VEREADOR</td>\n",
              "      <td>250000836854</td>\n",
              "      <td>JUCEI SANTANA</td>\n",
              "      <td>SANTANA CONSTRUTOR</td>\n",
              "      <td>PSDB</td>\n",
              "      <td>54</td>\n",
              "      <td>MASCULINO</td>\n",
              "      <td>ENSINO FUNDAMENTAL COMPLETO</td>\n",
              "      <td>PARDA</td>\n",
              "      <td>EMPRESÁRIO</td>\n",
              "      <td>31597</td>\n",
              "      <td>NaN</td>\n",
              "    </tr>\n",
              "    <tr>\n",
              "      <th>10</th>\n",
              "      <td>VICENTINA</td>\n",
              "      <td>VEREADOR</td>\n",
              "      <td>120000852607</td>\n",
              "      <td>JOSÉ PEREIRA DE FIGUEIREDO</td>\n",
              "      <td>J PEREIRA</td>\n",
              "      <td>PSDB</td>\n",
              "      <td>54</td>\n",
              "      <td>MASCULINO</td>\n",
              "      <td>ENSINO MÉDIO COMPLETO</td>\n",
              "      <td>PRETA</td>\n",
              "      <td>EMPRESÁRIO</td>\n",
              "      <td>12308</td>\n",
              "      <td>NaN</td>\n",
              "    </tr>\n",
              "    <tr>\n",
              "      <th>14</th>\n",
              "      <td>VILHENA</td>\n",
              "      <td>VEREADOR</td>\n",
              "      <td>220000849062</td>\n",
              "      <td>LUIZ CARLOS CORREIA DE OLIVEIRA</td>\n",
              "      <td>LUIZ DO MERCADO</td>\n",
              "      <td>PP</td>\n",
              "      <td>48</td>\n",
              "      <td>MASCULINO</td>\n",
              "      <td>ENSINO MÉDIO COMPLETO</td>\n",
              "      <td>PARDA</td>\n",
              "      <td>EMPRESÁRIO</td>\n",
              "      <td>57344</td>\n",
              "      <td>820000.00</td>\n",
              "    </tr>\n",
              "    <tr>\n",
              "      <th>20</th>\n",
              "      <td>CACHOEIRA DOURADA</td>\n",
              "      <td>VEREADOR</td>\n",
              "      <td>90000741782</td>\n",
              "      <td>EDSON FERNANDES LIRA</td>\n",
              "      <td>EDSON LIRA</td>\n",
              "      <td>PODE</td>\n",
              "      <td>27</td>\n",
              "      <td>MASCULINO</td>\n",
              "      <td>SUPERIOR COMPLETO</td>\n",
              "      <td>BRANCA</td>\n",
              "      <td>EMPRESÁRIO</td>\n",
              "      <td>31798</td>\n",
              "      <td>70000.00</td>\n",
              "    </tr>\n",
              "    <tr>\n",
              "      <th>...</th>\n",
              "      <td>...</td>\n",
              "      <td>...</td>\n",
              "      <td>...</td>\n",
              "      <td>...</td>\n",
              "      <td>...</td>\n",
              "      <td>...</td>\n",
              "      <td>...</td>\n",
              "      <td>...</td>\n",
              "      <td>...</td>\n",
              "      <td>...</td>\n",
              "      <td>...</td>\n",
              "      <td>...</td>\n",
              "      <td>...</td>\n",
              "    </tr>\n",
              "    <tr>\n",
              "      <th>548262</th>\n",
              "      <td>LIMEIRA</td>\n",
              "      <td>VEREADOR</td>\n",
              "      <td>250001208483</td>\n",
              "      <td>MONICA FRANZINI KRAUSS</td>\n",
              "      <td>MONICA KRAUSS</td>\n",
              "      <td>DEM</td>\n",
              "      <td>52</td>\n",
              "      <td>FEMININO</td>\n",
              "      <td>SUPERIOR COMPLETO</td>\n",
              "      <td>BRANCA</td>\n",
              "      <td>EMPRESÁRIO</td>\n",
              "      <td>125484</td>\n",
              "      <td>7127730.05</td>\n",
              "    </tr>\n",
              "    <tr>\n",
              "      <th>548289</th>\n",
              "      <td>UBERLÂNDIA</td>\n",
              "      <td>VEREADOR</td>\n",
              "      <td>130001011364</td>\n",
              "      <td>LEANDRO ALVES DA SILVA</td>\n",
              "      <td>LEANDRÃO DO BASQUETE</td>\n",
              "      <td>PSC</td>\n",
              "      <td>37</td>\n",
              "      <td>MASCULINO</td>\n",
              "      <td>ENSINO FUNDAMENTAL COMPLETO</td>\n",
              "      <td>PRETA</td>\n",
              "      <td>EMPRESÁRIO</td>\n",
              "      <td>549425</td>\n",
              "      <td>3000.00</td>\n",
              "    </tr>\n",
              "    <tr>\n",
              "      <th>548296</th>\n",
              "      <td>JARDINÓPOLIS</td>\n",
              "      <td>VEREADOR</td>\n",
              "      <td>250001191822</td>\n",
              "      <td>AGUINALDO JOSE DE SOUZA</td>\n",
              "      <td>AGNALDO GÊMEO</td>\n",
              "      <td>MDB</td>\n",
              "      <td>38</td>\n",
              "      <td>MASCULINO</td>\n",
              "      <td>ENSINO MÉDIO COMPLETO</td>\n",
              "      <td>PARDA</td>\n",
              "      <td>EMPRESÁRIO</td>\n",
              "      <td>21839</td>\n",
              "      <td>NaN</td>\n",
              "    </tr>\n",
              "    <tr>\n",
              "      <th>548307</th>\n",
              "      <td>BURITIZAL</td>\n",
              "      <td>VEREADOR</td>\n",
              "      <td>250001067925</td>\n",
              "      <td>ZAINA APARECIDA PISTORE</td>\n",
              "      <td>ZAINA DA LENICE</td>\n",
              "      <td>MDB</td>\n",
              "      <td>52</td>\n",
              "      <td>FEMININO</td>\n",
              "      <td>ENSINO MÉDIO COMPLETO</td>\n",
              "      <td>BRANCA</td>\n",
              "      <td>EMPRESÁRIO</td>\n",
              "      <td>12308</td>\n",
              "      <td>38748.00</td>\n",
              "    </tr>\n",
              "    <tr>\n",
              "      <th>548332</th>\n",
              "      <td>ÁGUIA BRANCA</td>\n",
              "      <td>PREFEITO</td>\n",
              "      <td>80001037223</td>\n",
              "      <td>JOSE CARLOS KUBIT</td>\n",
              "      <td>CARLIM KUBIT</td>\n",
              "      <td>PSB</td>\n",
              "      <td>52</td>\n",
              "      <td>MASCULINO</td>\n",
              "      <td>ENSINO FUNDAMENTAL COMPLETO</td>\n",
              "      <td>BRANCA</td>\n",
              "      <td>EMPRESÁRIO</td>\n",
              "      <td>123077</td>\n",
              "      <td>4575292.94</td>\n",
              "    </tr>\n",
              "  </tbody>\n",
              "</table>\n",
              "<p>32922 rows × 13 columns</p>\n",
              "</div>"
            ],
            "text/plain": [
              "                    NM_UE  DS_CARGO  ...  VR_DESPESA_MAX_CAMPANHA VR_BEM_CANDIDATO\n",
              "0             MAURILÂNDIA  VEREADOR  ...                    17122         40000.00\n",
              "8               ANDRADINA  VEREADOR  ...                    31597              NaN\n",
              "10              VICENTINA  VEREADOR  ...                    12308              NaN\n",
              "14                VILHENA  VEREADOR  ...                    57344        820000.00\n",
              "20      CACHOEIRA DOURADA  VEREADOR  ...                    31798         70000.00\n",
              "...                   ...       ...  ...                      ...              ...\n",
              "548262            LIMEIRA  VEREADOR  ...                   125484       7127730.05\n",
              "548289         UBERLÂNDIA  VEREADOR  ...                   549425          3000.00\n",
              "548296       JARDINÓPOLIS  VEREADOR  ...                    21839              NaN\n",
              "548307          BURITIZAL  VEREADOR  ...                    12308         38748.00\n",
              "548332       ÁGUIA BRANCA  PREFEITO  ...                   123077       4575292.94\n",
              "\n",
              "[32922 rows x 13 columns]"
            ]
          },
          "metadata": {
            "tags": []
          },
          "execution_count": 35
        }
      ]
    },
    {
      "cell_type": "code",
      "metadata": {
        "id": "CKu8i4rk_5Go"
      },
      "source": [
        "#Fazendo um recorte dos candidatos que se declaram empresários\n",
        "cand_empresarios = candidatos[candidatos['DS_OCUPACAO'] == 'EMPRESÁRIO']"
      ],
      "execution_count": 36,
      "outputs": []
    },
    {
      "cell_type": "code",
      "metadata": {
        "id": "X47Iiiy5ADkV",
        "outputId": "c01d4078-9c28-4a47-b73d-0747b66020c7",
        "colab": {
          "base_uri": "https://localhost:8080/",
          "height": 34
        }
      },
      "source": [
        "cand_empresarios['VR_BEM_CANDIDATO'].max()"
      ],
      "execution_count": 37,
      "outputs": [
        {
          "output_type": "execute_result",
          "data": {
            "text/plain": [
              "10613585493.22"
            ]
          },
          "metadata": {
            "tags": []
          },
          "execution_count": 37
        }
      ]
    },
    {
      "cell_type": "code",
      "metadata": {
        "id": "n_M6or5OBy9h",
        "outputId": "e23802d9-1a87-4675-ae49-72a9699f81a5",
        "colab": {
          "base_uri": "https://localhost:8080/",
          "height": 134
        }
      },
      "source": [
        "#Identificando o candidato com maior valor de bens declarados da planilha do TSE\n",
        "cand_empresarios[cand_empresarios['VR_BEM_CANDIDATO'] == 10613585493.22]"
      ],
      "execution_count": 38,
      "outputs": [
        {
          "output_type": "execute_result",
          "data": {
            "text/html": [
              "<div>\n",
              "<style scoped>\n",
              "    .dataframe tbody tr th:only-of-type {\n",
              "        vertical-align: middle;\n",
              "    }\n",
              "\n",
              "    .dataframe tbody tr th {\n",
              "        vertical-align: top;\n",
              "    }\n",
              "\n",
              "    .dataframe thead th {\n",
              "        text-align: right;\n",
              "    }\n",
              "</style>\n",
              "<table border=\"1\" class=\"dataframe\">\n",
              "  <thead>\n",
              "    <tr style=\"text-align: right;\">\n",
              "      <th></th>\n",
              "      <th>NM_UE</th>\n",
              "      <th>DS_CARGO</th>\n",
              "      <th>SQ_CANDIDATO</th>\n",
              "      <th>NM_CANDIDATO</th>\n",
              "      <th>NM_URNA_CANDIDATO</th>\n",
              "      <th>SG_PARTIDO</th>\n",
              "      <th>NR_IDADE_DATA_POSSE</th>\n",
              "      <th>DS_GENERO</th>\n",
              "      <th>DS_GRAU_INSTRUCAO</th>\n",
              "      <th>DS_COR_RACA</th>\n",
              "      <th>DS_OCUPACAO</th>\n",
              "      <th>VR_DESPESA_MAX_CAMPANHA</th>\n",
              "      <th>VR_BEM_CANDIDATO</th>\n",
              "    </tr>\n",
              "  </thead>\n",
              "  <tbody>\n",
              "    <tr>\n",
              "      <th>431628</th>\n",
              "      <td>ABAETETUBA</td>\n",
              "      <td>PREFEITO</td>\n",
              "      <td>140001040663</td>\n",
              "      <td>ADAMOR DIAS BITENCOURT</td>\n",
              "      <td>ADAMOR BITENCOURT</td>\n",
              "      <td>PTB</td>\n",
              "      <td>48</td>\n",
              "      <td>MASCULINO</td>\n",
              "      <td>ENSINO MÉDIO COMPLETO</td>\n",
              "      <td>PARDA</td>\n",
              "      <td>EMPRESÁRIO</td>\n",
              "      <td>262824</td>\n",
              "      <td>1.061359e+10</td>\n",
              "    </tr>\n",
              "  </tbody>\n",
              "</table>\n",
              "</div>"
            ],
            "text/plain": [
              "             NM_UE  DS_CARGO  ...  VR_DESPESA_MAX_CAMPANHA VR_BEM_CANDIDATO\n",
              "431628  ABAETETUBA  PREFEITO  ...                   262824     1.061359e+10\n",
              "\n",
              "[1 rows x 13 columns]"
            ]
          },
          "metadata": {
            "tags": []
          },
          "execution_count": 38
        }
      ]
    },
    {
      "cell_type": "code",
      "metadata": {
        "id": "IHO-nGRgAD1G",
        "outputId": "4b38bc04-86fb-4e74-f7f7-820bc1c7be67",
        "colab": {
          "base_uri": "https://localhost:8080/",
          "height": 34
        }
      },
      "source": [
        "cand_empresarios['VR_BEM_CANDIDATO'].mean()"
      ],
      "execution_count": 39,
      "outputs": [
        {
          "output_type": "execute_result",
          "data": {
            "text/plain": [
              "1257818.6416200402"
            ]
          },
          "metadata": {
            "tags": []
          },
          "execution_count": 39
        }
      ]
    },
    {
      "cell_type": "code",
      "metadata": {
        "id": "d_-fgpiqAEFd",
        "outputId": "ddae2c1a-eb38-4d8b-d13f-bf4a02bb0411",
        "colab": {
          "base_uri": "https://localhost:8080/",
          "height": 297
        }
      },
      "source": [
        "cand_empresarios.describe()"
      ],
      "execution_count": 40,
      "outputs": [
        {
          "output_type": "execute_result",
          "data": {
            "text/html": [
              "<div>\n",
              "<style scoped>\n",
              "    .dataframe tbody tr th:only-of-type {\n",
              "        vertical-align: middle;\n",
              "    }\n",
              "\n",
              "    .dataframe tbody tr th {\n",
              "        vertical-align: top;\n",
              "    }\n",
              "\n",
              "    .dataframe thead th {\n",
              "        text-align: right;\n",
              "    }\n",
              "</style>\n",
              "<table border=\"1\" class=\"dataframe\">\n",
              "  <thead>\n",
              "    <tr style=\"text-align: right;\">\n",
              "      <th></th>\n",
              "      <th>SQ_CANDIDATO</th>\n",
              "      <th>NR_IDADE_DATA_POSSE</th>\n",
              "      <th>VR_DESPESA_MAX_CAMPANHA</th>\n",
              "      <th>VR_BEM_CANDIDATO</th>\n",
              "    </tr>\n",
              "  </thead>\n",
              "  <tbody>\n",
              "    <tr>\n",
              "      <th>count</th>\n",
              "      <td>3.292200e+04</td>\n",
              "      <td>32922.000000</td>\n",
              "      <td>3.292200e+04</td>\n",
              "      <td>2.491300e+04</td>\n",
              "    </tr>\n",
              "    <tr>\n",
              "      <th>mean</th>\n",
              "      <td>1.654198e+11</td>\n",
              "      <td>45.041462</td>\n",
              "      <td>1.463959e+05</td>\n",
              "      <td>1.257819e+06</td>\n",
              "    </tr>\n",
              "    <tr>\n",
              "      <th>std</th>\n",
              "      <td>6.913409e+10</td>\n",
              "      <td>10.673309</td>\n",
              "      <td>5.889658e+05</td>\n",
              "      <td>6.878977e+07</td>\n",
              "    </tr>\n",
              "    <tr>\n",
              "      <th>min</th>\n",
              "      <td>1.000066e+10</td>\n",
              "      <td>18.000000</td>\n",
              "      <td>-1.000000e+00</td>\n",
              "      <td>0.000000e+00</td>\n",
              "    </tr>\n",
              "    <tr>\n",
              "      <th>25%</th>\n",
              "      <td>1.200009e+11</td>\n",
              "      <td>37.000000</td>\n",
              "      <td>1.230800e+04</td>\n",
              "      <td>4.850000e+04</td>\n",
              "    </tr>\n",
              "    <tr>\n",
              "      <th>50%</th>\n",
              "      <td>1.600011e+11</td>\n",
              "      <td>45.000000</td>\n",
              "      <td>3.778200e+04</td>\n",
              "      <td>1.720000e+05</td>\n",
              "    </tr>\n",
              "    <tr>\n",
              "      <th>75%</th>\n",
              "      <td>2.400010e+11</td>\n",
              "      <td>53.000000</td>\n",
              "      <td>1.230770e+05</td>\n",
              "      <td>4.500000e+05</td>\n",
              "    </tr>\n",
              "    <tr>\n",
              "      <th>max</th>\n",
              "      <td>2.700013e+11</td>\n",
              "      <td>103.000000</td>\n",
              "      <td>5.179938e+07</td>\n",
              "      <td>1.061359e+10</td>\n",
              "    </tr>\n",
              "  </tbody>\n",
              "</table>\n",
              "</div>"
            ],
            "text/plain": [
              "       SQ_CANDIDATO  ...  VR_BEM_CANDIDATO\n",
              "count  3.292200e+04  ...      2.491300e+04\n",
              "mean   1.654198e+11  ...      1.257819e+06\n",
              "std    6.913409e+10  ...      6.878977e+07\n",
              "min    1.000066e+10  ...      0.000000e+00\n",
              "25%    1.200009e+11  ...      4.850000e+04\n",
              "50%    1.600011e+11  ...      1.720000e+05\n",
              "75%    2.400010e+11  ...      4.500000e+05\n",
              "max    2.700013e+11  ...      1.061359e+10\n",
              "\n",
              "[8 rows x 4 columns]"
            ]
          },
          "metadata": {
            "tags": []
          },
          "execution_count": 40
        }
      ]
    },
    {
      "cell_type": "code",
      "metadata": {
        "id": "gDRGKdZlEceG"
      },
      "source": [
        "#Os 25% mais ricos\n",
        "\n",
        "mais_ricos = cand_empresarios[cand_empresarios['VR_BEM_CANDIDATO'] > 4.500000e+05]"
      ],
      "execution_count": 41,
      "outputs": []
    },
    {
      "cell_type": "code",
      "metadata": {
        "id": "FutQoNZ-taTI",
        "outputId": "a7e7466a-b992-4912-f797-b7b29a8dd336",
        "colab": {
          "base_uri": "https://localhost:8080/",
          "height": 580
        }
      },
      "source": [
        "mais_ricos.groupby(by='DS_GENERO')['SG_PARTIDO'].value_counts(ascending=True).plot(kind='barh')"
      ],
      "execution_count": 42,
      "outputs": [
        {
          "output_type": "execute_result",
          "data": {
            "text/plain": [
              "<matplotlib.axes._subplots.AxesSubplot at 0x7eff7fe7aa20>"
            ]
          },
          "metadata": {
            "tags": []
          },
          "execution_count": 42
        },
        {
          "output_type": "display_data",
          "data": {
            "image/png": "[encoded data removed]",
            "text/plain": [
              "<Figure size 1440x720 with 1 Axes>"
            ]
          },
          "metadata": {
            "tags": []
          }
        }
      ]
    },
    {
      "cell_type": "code",
      "metadata": {
        "id": "meraxp-v1FkR",
        "outputId": "698619fa-f35b-4732-cda5-22610e4773f0",
        "colab": {
          "base_uri": "https://localhost:8080/",
          "height": 668
        }
      },
      "source": [
        "mais_ricos.nlargest(10, 'VR_BEM_CANDIDATO')"
      ],
      "execution_count": 43,
      "outputs": [
        {
          "output_type": "execute_result",
          "data": {
            "text/html": [
              "<div>\n",
              "<style scoped>\n",
              "    .dataframe tbody tr th:only-of-type {\n",
              "        vertical-align: middle;\n",
              "    }\n",
              "\n",
              "    .dataframe tbody tr th {\n",
              "        vertical-align: top;\n",
              "    }\n",
              "\n",
              "    .dataframe thead th {\n",
              "        text-align: right;\n",
              "    }\n",
              "</style>\n",
              "<table border=\"1\" class=\"dataframe\">\n",
              "  <thead>\n",
              "    <tr style=\"text-align: right;\">\n",
              "      <th></th>\n",
              "      <th>NM_UE</th>\n",
              "      <th>DS_CARGO</th>\n",
              "      <th>SQ_CANDIDATO</th>\n",
              "      <th>NM_CANDIDATO</th>\n",
              "      <th>NM_URNA_CANDIDATO</th>\n",
              "      <th>SG_PARTIDO</th>\n",
              "      <th>NR_IDADE_DATA_POSSE</th>\n",
              "      <th>DS_GENERO</th>\n",
              "      <th>DS_GRAU_INSTRUCAO</th>\n",
              "      <th>DS_COR_RACA</th>\n",
              "      <th>DS_OCUPACAO</th>\n",
              "      <th>VR_DESPESA_MAX_CAMPANHA</th>\n",
              "      <th>VR_BEM_CANDIDATO</th>\n",
              "    </tr>\n",
              "  </thead>\n",
              "  <tbody>\n",
              "    <tr>\n",
              "      <th>431628</th>\n",
              "      <td>ABAETETUBA</td>\n",
              "      <td>PREFEITO</td>\n",
              "      <td>140001040663</td>\n",
              "      <td>ADAMOR DIAS BITENCOURT</td>\n",
              "      <td>ADAMOR BITENCOURT</td>\n",
              "      <td>PTB</td>\n",
              "      <td>48</td>\n",
              "      <td>MASCULINO</td>\n",
              "      <td>ENSINO MÉDIO COMPLETO</td>\n",
              "      <td>PARDA</td>\n",
              "      <td>EMPRESÁRIO</td>\n",
              "      <td>262824</td>\n",
              "      <td>1.061359e+10</td>\n",
              "    </tr>\n",
              "    <tr>\n",
              "      <th>403261</th>\n",
              "      <td>PONTAL DO PARANÁ</td>\n",
              "      <td>PREFEITO</td>\n",
              "      <td>160001000870</td>\n",
              "      <td>JOÃO CARLOS RIBEIRO</td>\n",
              "      <td>JOAO</td>\n",
              "      <td>PSC</td>\n",
              "      <td>79</td>\n",
              "      <td>MASCULINO</td>\n",
              "      <td>SUPERIOR COMPLETO</td>\n",
              "      <td>BRANCA</td>\n",
              "      <td>EMPRESÁRIO</td>\n",
              "      <td>213480</td>\n",
              "      <td>1.553326e+09</td>\n",
              "    </tr>\n",
              "    <tr>\n",
              "      <th>151754</th>\n",
              "      <td>CASTRO</td>\n",
              "      <td>PREFEITO</td>\n",
              "      <td>160001128835</td>\n",
              "      <td>MARCELO MENARIM</td>\n",
              "      <td>MARCELO MENARIM</td>\n",
              "      <td>PSD</td>\n",
              "      <td>39</td>\n",
              "      <td>MASCULINO</td>\n",
              "      <td>SUPERIOR COMPLETO</td>\n",
              "      <td>BRANCA</td>\n",
              "      <td>EMPRESÁRIO</td>\n",
              "      <td>387099</td>\n",
              "      <td>1.022161e+09</td>\n",
              "    </tr>\n",
              "    <tr>\n",
              "      <th>12599</th>\n",
              "      <td>ARAGUACEMA</td>\n",
              "      <td>VICE-PREFEITO</td>\n",
              "      <td>270001105064</td>\n",
              "      <td>WANDERLEY LUZINI</td>\n",
              "      <td>WANDERLEY</td>\n",
              "      <td>PSL</td>\n",
              "      <td>63</td>\n",
              "      <td>MASCULINO</td>\n",
              "      <td>ENSINO MÉDIO COMPLETO</td>\n",
              "      <td>BRANCA</td>\n",
              "      <td>EMPRESÁRIO</td>\n",
              "      <td>-1</td>\n",
              "      <td>8.129569e+08</td>\n",
              "    </tr>\n",
              "    <tr>\n",
              "      <th>390542</th>\n",
              "      <td>CAPÃO DA CANOA</td>\n",
              "      <td>VEREADOR</td>\n",
              "      <td>210001028987</td>\n",
              "      <td>ADRIANO NEVES PEREIRA</td>\n",
              "      <td>ADRIANO CHUVA</td>\n",
              "      <td>MDB</td>\n",
              "      <td>41</td>\n",
              "      <td>MASCULINO</td>\n",
              "      <td>ENSINO MÉDIO INCOMPLETO</td>\n",
              "      <td>PRETA</td>\n",
              "      <td>EMPRESÁRIO</td>\n",
              "      <td>27323</td>\n",
              "      <td>5.707950e+08</td>\n",
              "    </tr>\n",
              "    <tr>\n",
              "      <th>10131</th>\n",
              "      <td>IBIRUBÁ</td>\n",
              "      <td>PREFEITO</td>\n",
              "      <td>210000842505</td>\n",
              "      <td>ABEL GRAVE</td>\n",
              "      <td>ABEL GRAVE</td>\n",
              "      <td>REPUBLICANOS</td>\n",
              "      <td>37</td>\n",
              "      <td>MASCULINO</td>\n",
              "      <td>ENSINO MÉDIO COMPLETO</td>\n",
              "      <td>BRANCA</td>\n",
              "      <td>EMPRESÁRIO</td>\n",
              "      <td>123077</td>\n",
              "      <td>4.098355e+08</td>\n",
              "    </tr>\n",
              "    <tr>\n",
              "      <th>426349</th>\n",
              "      <td>BETIM</td>\n",
              "      <td>PREFEITO</td>\n",
              "      <td>130000692020</td>\n",
              "      <td>VITTORIO MEDIOLI</td>\n",
              "      <td>VITTORIO MEDIOLI</td>\n",
              "      <td>PSD</td>\n",
              "      <td>69</td>\n",
              "      <td>MASCULINO</td>\n",
              "      <td>SUPERIOR COMPLETO</td>\n",
              "      <td>BRANCA</td>\n",
              "      <td>EMPRESÁRIO</td>\n",
              "      <td>5154459</td>\n",
              "      <td>3.517244e+08</td>\n",
              "    </tr>\n",
              "    <tr>\n",
              "      <th>491474</th>\n",
              "      <td>LAURO DE FREITAS</td>\n",
              "      <td>PREFEITO</td>\n",
              "      <td>50000700410</td>\n",
              "      <td>TEOBALDO LUÍS DA COSTA</td>\n",
              "      <td>TEOBALDO</td>\n",
              "      <td>DEM</td>\n",
              "      <td>66</td>\n",
              "      <td>MASCULINO</td>\n",
              "      <td>SUPERIOR COMPLETO</td>\n",
              "      <td>BRANCA</td>\n",
              "      <td>EMPRESÁRIO</td>\n",
              "      <td>1065251</td>\n",
              "      <td>3.412866e+08</td>\n",
              "    </tr>\n",
              "    <tr>\n",
              "      <th>44186</th>\n",
              "      <td>NOVA LIMA</td>\n",
              "      <td>VEREADOR</td>\n",
              "      <td>130001084556</td>\n",
              "      <td>VERONICE DA FONSECA SILVA</td>\n",
              "      <td>VERONICE DA FONSECA</td>\n",
              "      <td>DEM</td>\n",
              "      <td>49</td>\n",
              "      <td>FEMININO</td>\n",
              "      <td>ENSINO MÉDIO COMPLETO</td>\n",
              "      <td>BRANCA</td>\n",
              "      <td>EMPRESÁRIO</td>\n",
              "      <td>201825</td>\n",
              "      <td>1.821260e+08</td>\n",
              "    </tr>\n",
              "    <tr>\n",
              "      <th>24395</th>\n",
              "      <td>QUITANDINHA</td>\n",
              "      <td>VEREADOR</td>\n",
              "      <td>160000936437</td>\n",
              "      <td>JACKSON JOSE MENDES DE MOURA</td>\n",
              "      <td>JACKSON DO QUIRERA</td>\n",
              "      <td>PROS</td>\n",
              "      <td>43</td>\n",
              "      <td>MASCULINO</td>\n",
              "      <td>SUPERIOR INCOMPLETO</td>\n",
              "      <td>PARDA</td>\n",
              "      <td>EMPRESÁRIO</td>\n",
              "      <td>12308</td>\n",
              "      <td>1.801830e+08</td>\n",
              "    </tr>\n",
              "  </tbody>\n",
              "</table>\n",
              "</div>"
            ],
            "text/plain": [
              "                   NM_UE  ... VR_BEM_CANDIDATO\n",
              "431628        ABAETETUBA  ...     1.061359e+10\n",
              "403261  PONTAL DO PARANÁ  ...     1.553326e+09\n",
              "151754            CASTRO  ...     1.022161e+09\n",
              "12599         ARAGUACEMA  ...     8.129569e+08\n",
              "390542    CAPÃO DA CANOA  ...     5.707950e+08\n",
              "10131            IBIRUBÁ  ...     4.098355e+08\n",
              "426349             BETIM  ...     3.517244e+08\n",
              "491474  LAURO DE FREITAS  ...     3.412866e+08\n",
              "44186          NOVA LIMA  ...     1.821260e+08\n",
              "24395        QUITANDINHA  ...     1.801830e+08\n",
              "\n",
              "[10 rows x 13 columns]"
            ]
          },
          "metadata": {
            "tags": []
          },
          "execution_count": 43
        }
      ]
    },
    {
      "cell_type": "code",
      "metadata": {
        "id": "St6tZaORnIS3",
        "outputId": "971f0894-2c25-4af5-efa1-b80a4ba8284b",
        "colab": {
          "base_uri": "https://localhost:8080/",
          "height": 578
        }
      },
      "source": [
        "candidatos.groupby(by='DS_GENERO')['DS_CARGO'].value_counts(ascending=True).plot(kind='barh')"
      ],
      "execution_count": 44,
      "outputs": [
        {
          "output_type": "execute_result",
          "data": {
            "text/plain": [
              "<matplotlib.axes._subplots.AxesSubplot at 0x7eff7e4c49e8>"
            ]
          },
          "metadata": {
            "tags": []
          },
          "execution_count": 44
        },
        {
          "output_type": "display_data",
          "data": {
            "image/png": "[encoded data removed]",
            "text/plain": [
              "<Figure size 1440x720 with 1 Axes>"
            ]
          },
          "metadata": {
            "tags": []
          }
        }
      ]
    },
    {
      "cell_type": "code",
      "metadata": {
        "id": "OE63DEE7nIkD",
        "outputId": "e1be6ad5-8f83-4306-8346-ab07f2a1429f",
        "colab": {
          "base_uri": "https://localhost:8080/",
          "height": 595
        }
      },
      "source": [
        "#Contando o número de candidatos por partido\n",
        "candidatos['SG_PARTIDO'].value_counts()"
      ],
      "execution_count": 45,
      "outputs": [
        {
          "output_type": "execute_result",
          "data": {
            "text/plain": [
              "MDB              44549\n",
              "PSD              39201\n",
              "PP               38025\n",
              "DEM              32742\n",
              "PSDB             32723\n",
              "PT               31239\n",
              "REPUBLICANOS     28382\n",
              "PDT              28309\n",
              "PL               28101\n",
              "PSB              26571\n",
              "PTB              23418\n",
              "PSL              21846\n",
              "PODE             20315\n",
              "PSC              17866\n",
              "CIDADANIA        17294\n",
              "SOLIDARIEDADE    16866\n",
              "AVANTE           15038\n",
              "PATRIOTA         14198\n",
              "PV               12051\n",
              "PROS             11707\n",
              "PC do B          10476\n",
              "PRTB              7774\n",
              "PTC               6678\n",
              "PMN               5000\n",
              "DC                4758\n",
              "REDE              4742\n",
              "PSOL              4616\n",
              "PMB               2733\n",
              "NOVO               620\n",
              "PSTU               204\n",
              "UP                 133\n",
              "PCO                 88\n",
              "PCB                 76\n",
              "Name: SG_PARTIDO, dtype: int64"
            ]
          },
          "metadata": {
            "tags": []
          },
          "execution_count": 45
        }
      ]
    },
    {
      "cell_type": "code",
      "metadata": {
        "id": "BTlPf6gfnIp_",
        "outputId": "4650c2d2-3bb9-40b1-8b71-65634eb4b1ef",
        "colab": {
          "base_uri": "https://localhost:8080/",
          "height": 609
        }
      },
      "source": [
        "candidatos['SG_PARTIDO'].value_counts(ascending=True).plot(kind='barh')"
      ],
      "execution_count": 46,
      "outputs": [
        {
          "output_type": "execute_result",
          "data": {
            "text/plain": [
              "<matplotlib.axes._subplots.AxesSubplot at 0x7eff7e51b550>"
            ]
          },
          "metadata": {
            "tags": []
          },
          "execution_count": 46
        },
        {
          "output_type": "display_data",
          "data": {
            "image/png": "[encoded data removed]",
            "text/plain": [
              "<Figure size 1440x720 with 1 Axes>"
            ]
          },
          "metadata": {
            "tags": []
          }
        }
      ]
    },
    {
      "cell_type": "code",
      "metadata": {
        "id": "wy6HvJFCnI0S",
        "outputId": "61083233-88da-4227-cc43-41e815dad5ba",
        "colab": {
          "base_uri": "https://localhost:8080/",
          "height": 34
        }
      },
      "source": [
        "candidatos['VR_DESPESA_MAX_CAMPANHA'].max()"
      ],
      "execution_count": 47,
      "outputs": [
        {
          "output_type": "execute_result",
          "data": {
            "text/plain": [
              "51799384"
            ]
          },
          "metadata": {
            "tags": []
          },
          "execution_count": 47
        }
      ]
    },
    {
      "cell_type": "code",
      "metadata": {
        "id": "Equ1GefGnI6d",
        "outputId": "4e096b20-b55d-4252-fec6-8b636f4a23c4",
        "colab": {
          "base_uri": "https://localhost:8080/",
          "height": 962
        }
      },
      "source": [
        "#Candidatos a prefeito da cidade de São Paulo têm mais dinheiro para gastar na campanha\n",
        "\n",
        "candidatos[candidatos['VR_DESPESA_MAX_CAMPANHA'] == 51799384]"
      ],
      "execution_count": 48,
      "outputs": [
        {
          "output_type": "execute_result",
          "data": {
            "text/html": [
              "<div>\n",
              "<style scoped>\n",
              "    .dataframe tbody tr th:only-of-type {\n",
              "        vertical-align: middle;\n",
              "    }\n",
              "\n",
              "    .dataframe tbody tr th {\n",
              "        vertical-align: top;\n",
              "    }\n",
              "\n",
              "    .dataframe thead th {\n",
              "        text-align: right;\n",
              "    }\n",
              "</style>\n",
              "<table border=\"1\" class=\"dataframe\">\n",
              "  <thead>\n",
              "    <tr style=\"text-align: right;\">\n",
              "      <th></th>\n",
              "      <th>NM_UE</th>\n",
              "      <th>DS_CARGO</th>\n",
              "      <th>SQ_CANDIDATO</th>\n",
              "      <th>NM_CANDIDATO</th>\n",
              "      <th>NM_URNA_CANDIDATO</th>\n",
              "      <th>SG_PARTIDO</th>\n",
              "      <th>NR_IDADE_DATA_POSSE</th>\n",
              "      <th>DS_GENERO</th>\n",
              "      <th>DS_GRAU_INSTRUCAO</th>\n",
              "      <th>DS_COR_RACA</th>\n",
              "      <th>DS_OCUPACAO</th>\n",
              "      <th>VR_DESPESA_MAX_CAMPANHA</th>\n",
              "      <th>VR_BEM_CANDIDATO</th>\n",
              "    </tr>\n",
              "  </thead>\n",
              "  <tbody>\n",
              "    <tr>\n",
              "      <th>52641</th>\n",
              "      <td>SÃO PAULO</td>\n",
              "      <td>PREFEITO</td>\n",
              "      <td>250000693062</td>\n",
              "      <td>FILIPE TOMAZELLI SABARA</td>\n",
              "      <td>SABARÁ</td>\n",
              "      <td>NOVO</td>\n",
              "      <td>37</td>\n",
              "      <td>MASCULINO</td>\n",
              "      <td>SUPERIOR COMPLETO</td>\n",
              "      <td>BRANCA</td>\n",
              "      <td>EMPRESÁRIO</td>\n",
              "      <td>51799384</td>\n",
              "      <td>5111138.94</td>\n",
              "    </tr>\n",
              "    <tr>\n",
              "      <th>93552</th>\n",
              "      <td>SÃO PAULO</td>\n",
              "      <td>PREFEITO</td>\n",
              "      <td>250001094597</td>\n",
              "      <td>CELSO UBIRAJARA RUSSOMANNO</td>\n",
              "      <td>CELSO RUSSOMANNO</td>\n",
              "      <td>REPUBLICANOS</td>\n",
              "      <td>64</td>\n",
              "      <td>MASCULINO</td>\n",
              "      <td>SUPERIOR COMPLETO</td>\n",
              "      <td>BRANCA</td>\n",
              "      <td>JORNALISTA E REDATOR</td>\n",
              "      <td>51799384</td>\n",
              "      <td>1772944.11</td>\n",
              "    </tr>\n",
              "    <tr>\n",
              "      <th>135990</th>\n",
              "      <td>SÃO PAULO</td>\n",
              "      <td>PREFEITO</td>\n",
              "      <td>250001012981</td>\n",
              "      <td>MÁRCIO LUIZ FRANÇA GOMES</td>\n",
              "      <td>MÁRCIO FRANÇA</td>\n",
              "      <td>PSB</td>\n",
              "      <td>57</td>\n",
              "      <td>MASCULINO</td>\n",
              "      <td>SUPERIOR COMPLETO</td>\n",
              "      <td>BRANCA</td>\n",
              "      <td>OUTROS</td>\n",
              "      <td>51799384</td>\n",
              "      <td>272864.37</td>\n",
              "    </tr>\n",
              "    <tr>\n",
              "      <th>154672</th>\n",
              "      <td>SÃO PAULO</td>\n",
              "      <td>PREFEITO</td>\n",
              "      <td>250000641390</td>\n",
              "      <td>ARTHUR MOLEDO DO VAL</td>\n",
              "      <td>ARTHUR DO VAL</td>\n",
              "      <td>PATRIOTA</td>\n",
              "      <td>34</td>\n",
              "      <td>MASCULINO</td>\n",
              "      <td>SUPERIOR COMPLETO</td>\n",
              "      <td>BRANCA</td>\n",
              "      <td>DEPUTADO</td>\n",
              "      <td>51799384</td>\n",
              "      <td>408635.44</td>\n",
              "    </tr>\n",
              "    <tr>\n",
              "      <th>191021</th>\n",
              "      <td>SÃO PAULO</td>\n",
              "      <td>PREFEITO</td>\n",
              "      <td>250000746936</td>\n",
              "      <td>GUILHERME CASTRO BOULOS</td>\n",
              "      <td>GUILHERME BOULOS</td>\n",
              "      <td>PSOL</td>\n",
              "      <td>38</td>\n",
              "      <td>MASCULINO</td>\n",
              "      <td>SUPERIOR COMPLETO</td>\n",
              "      <td>BRANCA</td>\n",
              "      <td>PROFESSOR DE ENSINO SUPERIOR</td>\n",
              "      <td>51799384</td>\n",
              "      <td>15416.00</td>\n",
              "    </tr>\n",
              "    <tr>\n",
              "      <th>198896</th>\n",
              "      <td>SÃO PAULO</td>\n",
              "      <td>PREFEITO</td>\n",
              "      <td>250000755896</td>\n",
              "      <td>JILMAR AUGUSTINHO TATTO</td>\n",
              "      <td>JILMAR TATTO</td>\n",
              "      <td>PT</td>\n",
              "      <td>55</td>\n",
              "      <td>MASCULINO</td>\n",
              "      <td>SUPERIOR COMPLETO</td>\n",
              "      <td>BRANCA</td>\n",
              "      <td>OUTROS</td>\n",
              "      <td>51799384</td>\n",
              "      <td>126189.86</td>\n",
              "    </tr>\n",
              "    <tr>\n",
              "      <th>284995</th>\n",
              "      <td>SÃO PAULO</td>\n",
              "      <td>PREFEITO</td>\n",
              "      <td>250001172314</td>\n",
              "      <td>ANTÔNIO CARLOS SILVA</td>\n",
              "      <td>ANTÔNIO CARLOS</td>\n",
              "      <td>PCO</td>\n",
              "      <td>58</td>\n",
              "      <td>MASCULINO</td>\n",
              "      <td>SUPERIOR COMPLETO</td>\n",
              "      <td>PRETA</td>\n",
              "      <td>PROFESSOR DE ENSINO MÉDIO</td>\n",
              "      <td>51799384</td>\n",
              "      <td>50000.00</td>\n",
              "    </tr>\n",
              "    <tr>\n",
              "      <th>314865</th>\n",
              "      <td>SÃO PAULO</td>\n",
              "      <td>PREFEITO</td>\n",
              "      <td>250000658458</td>\n",
              "      <td>JOICE CRISTINA HASSELMANN</td>\n",
              "      <td>JOICE HASSELMANN</td>\n",
              "      <td>PSL</td>\n",
              "      <td>42</td>\n",
              "      <td>FEMININO</td>\n",
              "      <td>SUPERIOR COMPLETO</td>\n",
              "      <td>BRANCA</td>\n",
              "      <td>JORNALISTA E REDATOR</td>\n",
              "      <td>51799384</td>\n",
              "      <td>186980.00</td>\n",
              "    </tr>\n",
              "    <tr>\n",
              "      <th>320171</th>\n",
              "      <td>SÃO PAULO</td>\n",
              "      <td>PREFEITO</td>\n",
              "      <td>250001152470</td>\n",
              "      <td>MARINA MEDEIROS HELOU</td>\n",
              "      <td>MARINA HELOU</td>\n",
              "      <td>REDE</td>\n",
              "      <td>33</td>\n",
              "      <td>FEMININO</td>\n",
              "      <td>SUPERIOR COMPLETO</td>\n",
              "      <td>BRANCA</td>\n",
              "      <td>DEPUTADO</td>\n",
              "      <td>51799384</td>\n",
              "      <td>2244000.00</td>\n",
              "    </tr>\n",
              "    <tr>\n",
              "      <th>362818</th>\n",
              "      <td>SÃO PAULO</td>\n",
              "      <td>PREFEITO</td>\n",
              "      <td>250001013564</td>\n",
              "      <td>JOSE LEVY FIDELIX DA CRUZ</td>\n",
              "      <td>LEVY FIDELIX</td>\n",
              "      <td>PRTB</td>\n",
              "      <td>69</td>\n",
              "      <td>MASCULINO</td>\n",
              "      <td>SUPERIOR COMPLETO</td>\n",
              "      <td>BRANCA</td>\n",
              "      <td>JORNALISTA E REDATOR</td>\n",
              "      <td>51799384</td>\n",
              "      <td>954597.41</td>\n",
              "    </tr>\n",
              "    <tr>\n",
              "      <th>366721</th>\n",
              "      <td>SÃO PAULO</td>\n",
              "      <td>PREFEITO</td>\n",
              "      <td>250000744464</td>\n",
              "      <td>VERA LUCIA PEREIRA DA SILVA SALGADO</td>\n",
              "      <td>VERA</td>\n",
              "      <td>PSTU</td>\n",
              "      <td>53</td>\n",
              "      <td>FEMININO</td>\n",
              "      <td>SUPERIOR COMPLETO</td>\n",
              "      <td>PRETA</td>\n",
              "      <td>SOCIÓLOGO</td>\n",
              "      <td>51799384</td>\n",
              "      <td>20000.00</td>\n",
              "    </tr>\n",
              "    <tr>\n",
              "      <th>414775</th>\n",
              "      <td>SÃO PAULO</td>\n",
              "      <td>PREFEITO</td>\n",
              "      <td>250000661535</td>\n",
              "      <td>ANGELO ANDREA MATARAZZO</td>\n",
              "      <td>ANDREA MATARAZZO</td>\n",
              "      <td>PSD</td>\n",
              "      <td>64</td>\n",
              "      <td>MASCULINO</td>\n",
              "      <td>SUPERIOR COMPLETO</td>\n",
              "      <td>BRANCA</td>\n",
              "      <td>ADMINISTRADOR</td>\n",
              "      <td>51799384</td>\n",
              "      <td>1494923.55</td>\n",
              "    </tr>\n",
              "    <tr>\n",
              "      <th>426648</th>\n",
              "      <td>SÃO PAULO</td>\n",
              "      <td>PREFEITO</td>\n",
              "      <td>250000896546</td>\n",
              "      <td>BRUNO COVAS LOPES</td>\n",
              "      <td>BRUNO COVAS</td>\n",
              "      <td>PSDB</td>\n",
              "      <td>40</td>\n",
              "      <td>MASCULINO</td>\n",
              "      <td>SUPERIOR COMPLETO</td>\n",
              "      <td>BRANCA</td>\n",
              "      <td>PREFEITO</td>\n",
              "      <td>51799384</td>\n",
              "      <td>104966.68</td>\n",
              "    </tr>\n",
              "    <tr>\n",
              "      <th>430902</th>\n",
              "      <td>SÃO PAULO</td>\n",
              "      <td>PREFEITO</td>\n",
              "      <td>250000766422</td>\n",
              "      <td>ORLANDO SILVA DE JESUS JUNIOR</td>\n",
              "      <td>ORLANDO SILVA</td>\n",
              "      <td>PC do B</td>\n",
              "      <td>49</td>\n",
              "      <td>MASCULINO</td>\n",
              "      <td>SUPERIOR INCOMPLETO</td>\n",
              "      <td>PRETA</td>\n",
              "      <td>DEPUTADO</td>\n",
              "      <td>51799384</td>\n",
              "      <td>738360.38</td>\n",
              "    </tr>\n",
              "  </tbody>\n",
              "</table>\n",
              "</div>"
            ],
            "text/plain": [
              "            NM_UE  DS_CARGO  ...  VR_DESPESA_MAX_CAMPANHA VR_BEM_CANDIDATO\n",
              "52641   SÃO PAULO  PREFEITO  ...                 51799384       5111138.94\n",
              "93552   SÃO PAULO  PREFEITO  ...                 51799384       1772944.11\n",
              "135990  SÃO PAULO  PREFEITO  ...                 51799384        272864.37\n",
              "154672  SÃO PAULO  PREFEITO  ...                 51799384        408635.44\n",
              "191021  SÃO PAULO  PREFEITO  ...                 51799384         15416.00\n",
              "198896  SÃO PAULO  PREFEITO  ...                 51799384        126189.86\n",
              "284995  SÃO PAULO  PREFEITO  ...                 51799384         50000.00\n",
              "314865  SÃO PAULO  PREFEITO  ...                 51799384        186980.00\n",
              "320171  SÃO PAULO  PREFEITO  ...                 51799384       2244000.00\n",
              "362818  SÃO PAULO  PREFEITO  ...                 51799384        954597.41\n",
              "366721  SÃO PAULO  PREFEITO  ...                 51799384         20000.00\n",
              "414775  SÃO PAULO  PREFEITO  ...                 51799384       1494923.55\n",
              "426648  SÃO PAULO  PREFEITO  ...                 51799384        104966.68\n",
              "430902  SÃO PAULO  PREFEITO  ...                 51799384        738360.38\n",
              "\n",
              "[14 rows x 13 columns]"
            ]
          },
          "metadata": {
            "tags": []
          },
          "execution_count": 48
        }
      ]
    },
    {
      "cell_type": "code",
      "metadata": {
        "id": "ZhCulfxOnJBl",
        "outputId": "3bec1f83-b2f4-4101-8e06-f8d86a738199",
        "colab": {
          "base_uri": "https://localhost:8080/",
          "height": 34
        }
      },
      "source": [
        "candidatos['VR_DESPESA_MAX_CAMPANHA'].mean()"
      ],
      "execution_count": 49,
      "outputs": [
        {
          "output_type": "execute_result",
          "data": {
            "text/plain": [
              "98407.80378379069"
            ]
          },
          "metadata": {
            "tags": []
          },
          "execution_count": 49
        }
      ]
    },
    {
      "cell_type": "code",
      "metadata": {
        "id": "Jv9kYoB2nJJQ",
        "outputId": "58d602bb-2df6-4284-a0a3-fe28622c7fbf",
        "colab": {
          "base_uri": "https://localhost:8080/",
          "height": 34
        }
      },
      "source": [
        "candidatos['VR_DESPESA_MAX_CAMPANHA'].median()                        # -1 == não declarou"
      ],
      "execution_count": 50,
      "outputs": [
        {
          "output_type": "execute_result",
          "data": {
            "text/plain": [
              "21691.0"
            ]
          },
          "metadata": {
            "tags": []
          },
          "execution_count": 50
        }
      ]
    },
    {
      "cell_type": "code",
      "metadata": {
        "id": "L5R-z38SMJo_",
        "outputId": "58b248bb-2cb8-4dea-8836-c21f96c7293a",
        "colab": {
          "base_uri": "https://localhost:8080/",
          "height": 34
        }
      },
      "source": [
        "candidatos['VR_BEM_CANDIDATO'].median()"
      ],
      "execution_count": 51,
      "outputs": [
        {
          "output_type": "execute_result",
          "data": {
            "text/plain": [
              "85000.0"
            ]
          },
          "metadata": {
            "tags": []
          },
          "execution_count": 51
        }
      ]
    },
    {
      "cell_type": "code",
      "metadata": {
        "id": "Hy3AhOz4nJOs",
        "outputId": "68055ff1-04c6-4f87-ff4a-c01342b6a105",
        "colab": {
          "base_uri": "https://localhost:8080/",
          "height": 609
        }
      },
      "source": [
        "#Agrupando bens e genêro. Riqueza também é uma questão de genêro\n",
        "candidatos[['DS_GENERO', 'VR_BEM_CANDIDATO']].groupby('DS_GENERO').mean().sort_values('VR_BEM_CANDIDATO', \n",
        "                                                                                             ascending=False).plot(kind='barh')"
      ],
      "execution_count": 52,
      "outputs": [
        {
          "output_type": "execute_result",
          "data": {
            "text/plain": [
              "<matplotlib.axes._subplots.AxesSubplot at 0x7eff7e4a6208>"
            ]
          },
          "metadata": {
            "tags": []
          },
          "execution_count": 52
        },
        {
          "output_type": "display_data",
          "data": {
            "image/png": "[encoded data removed]",
            "text/plain": [
              "<Figure size 1440x720 with 1 Axes>"
            ]
          },
          "metadata": {
            "tags": []
          }
        }
      ]
    },
    {
      "cell_type": "code",
      "metadata": {
        "id": "d_IzQDWSnJW0",
        "outputId": "7c4091af-f7dc-4ba3-fd49-64f07e38dff2",
        "colab": {
          "base_uri": "https://localhost:8080/",
          "height": 612
        }
      },
      "source": [
        "#Quais partidos têm mais dinheiro para gastar nas campanhas\n",
        "candidatos.groupby('SG_PARTIDO')['VR_DESPESA_MAX_CAMPANHA'].sum().sort_values(ascending=False)"
      ],
      "execution_count": 53,
      "outputs": [
        {
          "output_type": "execute_result",
          "data": {
            "text/plain": [
              "SG_PARTIDO\n",
              "MDB              2789899510\n",
              "PT               2692526880\n",
              "PSD              2632411035\n",
              "REPUBLICANOS     2561769560\n",
              "PSDB             2485100445\n",
              "PSL              2466559301\n",
              "DEM              2361897403\n",
              "PDT              2350037032\n",
              "PP               2239044375\n",
              "PSB              2160641336\n",
              "PL               2127315747\n",
              "PODE             2105776427\n",
              "PTB              1996857328\n",
              "SOLIDARIEDADE    1947840985\n",
              "PSC              1870988930\n",
              "PATRIOTA         1838853699\n",
              "AVANTE           1817206234\n",
              "CIDADANIA        1681075671\n",
              "PC do B          1625415725\n",
              "PRTB             1573945932\n",
              "PV               1530830329\n",
              "PROS             1487318977\n",
              "PTC              1327775872\n",
              "PSOL             1309188805\n",
              "PMN              1011798281\n",
              "DC               1000546996\n",
              "REDE              928945412\n",
              "PMB               785952474\n",
              "NOVO              569302113\n",
              "PSTU              290103764\n",
              "PCO               247662031\n",
              "UP                103161552\n",
              "PCB                43086558\n",
              "Name: VR_DESPESA_MAX_CAMPANHA, dtype: int64"
            ]
          },
          "metadata": {
            "tags": []
          },
          "execution_count": 53
        }
      ]
    },
    {
      "cell_type": "code",
      "metadata": {
        "id": "0Tg_i7XInIwi",
        "outputId": "ac78b79d-c1e5-4bb6-80f5-5e6e8af7b117",
        "colab": {
          "base_uri": "https://localhost:8080/",
          "height": 622
        }
      },
      "source": [
        "candidatos.groupby('SG_PARTIDO')['VR_DESPESA_MAX_CAMPANHA'].sum().sort_values(ascending=True).plot(kind='barh')"
      ],
      "execution_count": 54,
      "outputs": [
        {
          "output_type": "execute_result",
          "data": {
            "text/plain": [
              "<matplotlib.axes._subplots.AxesSubplot at 0x7eff7e417358>"
            ]
          },
          "metadata": {
            "tags": []
          },
          "execution_count": 54
        },
        {
          "output_type": "display_data",
          "data": {
            "image/png": "[encoded data removed]",
            "text/plain": [
              "<Figure size 1440x720 with 1 Axes>"
            ]
          },
          "metadata": {
            "tags": []
          }
        }
      ]
    },
    {
      "cell_type": "code",
      "metadata": {
        "id": "wO7cLpTZMtnU",
        "outputId": "45dd644c-3943-4a2d-a68d-29db4cbbdef2",
        "colab": {
          "base_uri": "https://localhost:8080/",
          "height": 622
        }
      },
      "source": [
        "#Quais partidos têm os candidatos mais ricos\n",
        "candidatos.groupby('SG_PARTIDO')['VR_BEM_CANDIDATO'].sum().sort_values(ascending=True).plot(kind='barh')"
      ],
      "execution_count": 55,
      "outputs": [
        {
          "output_type": "execute_result",
          "data": {
            "text/plain": [
              "<matplotlib.axes._subplots.AxesSubplot at 0x7eff7e2b6908>"
            ]
          },
          "metadata": {
            "tags": []
          },
          "execution_count": 55
        },
        {
          "output_type": "display_data",
          "data": {
            "image/png": "[encoded data removed]",
            "text/plain": [
              "<Figure size 1440x720 with 1 Axes>"
            ]
          },
          "metadata": {
            "tags": []
          }
        }
      ]
    },
    {
      "cell_type": "code",
      "metadata": {
        "id": "l10aACUqpZJB",
        "outputId": "4eb01fd6-4d4b-4f3c-cda9-3ae6555fe444",
        "colab": {
          "base_uri": "https://localhost:8080/",
          "height": 483
        }
      },
      "source": [
        "candidatos[candidatos['VR_DESPESA_MAX_CAMPANHA'] == candidatos['VR_DESPESA_MAX_CAMPANHA'].max()][['DS_GENERO', 'DS_COR_RACA', 'NM_CANDIDATO']]"
      ],
      "execution_count": 56,
      "outputs": [
        {
          "output_type": "execute_result",
          "data": {
            "text/html": [
              "<div>\n",
              "<style scoped>\n",
              "    .dataframe tbody tr th:only-of-type {\n",
              "        vertical-align: middle;\n",
              "    }\n",
              "\n",
              "    .dataframe tbody tr th {\n",
              "        vertical-align: top;\n",
              "    }\n",
              "\n",
              "    .dataframe thead th {\n",
              "        text-align: right;\n",
              "    }\n",
              "</style>\n",
              "<table border=\"1\" class=\"dataframe\">\n",
              "  <thead>\n",
              "    <tr style=\"text-align: right;\">\n",
              "      <th></th>\n",
              "      <th>DS_GENERO</th>\n",
              "      <th>DS_COR_RACA</th>\n",
              "      <th>NM_CANDIDATO</th>\n",
              "    </tr>\n",
              "  </thead>\n",
              "  <tbody>\n",
              "    <tr>\n",
              "      <th>52641</th>\n",
              "      <td>MASCULINO</td>\n",
              "      <td>BRANCA</td>\n",
              "      <td>FILIPE TOMAZELLI SABARA</td>\n",
              "    </tr>\n",
              "    <tr>\n",
              "      <th>93552</th>\n",
              "      <td>MASCULINO</td>\n",
              "      <td>BRANCA</td>\n",
              "      <td>CELSO UBIRAJARA RUSSOMANNO</td>\n",
              "    </tr>\n",
              "    <tr>\n",
              "      <th>135990</th>\n",
              "      <td>MASCULINO</td>\n",
              "      <td>BRANCA</td>\n",
              "      <td>MÁRCIO LUIZ FRANÇA GOMES</td>\n",
              "    </tr>\n",
              "    <tr>\n",
              "      <th>154672</th>\n",
              "      <td>MASCULINO</td>\n",
              "      <td>BRANCA</td>\n",
              "      <td>ARTHUR MOLEDO DO VAL</td>\n",
              "    </tr>\n",
              "    <tr>\n",
              "      <th>191021</th>\n",
              "      <td>MASCULINO</td>\n",
              "      <td>BRANCA</td>\n",
              "      <td>GUILHERME CASTRO BOULOS</td>\n",
              "    </tr>\n",
              "    <tr>\n",
              "      <th>198896</th>\n",
              "      <td>MASCULINO</td>\n",
              "      <td>BRANCA</td>\n",
              "      <td>JILMAR AUGUSTINHO TATTO</td>\n",
              "    </tr>\n",
              "    <tr>\n",
              "      <th>284995</th>\n",
              "      <td>MASCULINO</td>\n",
              "      <td>PRETA</td>\n",
              "      <td>ANTÔNIO CARLOS SILVA</td>\n",
              "    </tr>\n",
              "    <tr>\n",
              "      <th>314865</th>\n",
              "      <td>FEMININO</td>\n",
              "      <td>BRANCA</td>\n",
              "      <td>JOICE CRISTINA HASSELMANN</td>\n",
              "    </tr>\n",
              "    <tr>\n",
              "      <th>320171</th>\n",
              "      <td>FEMININO</td>\n",
              "      <td>BRANCA</td>\n",
              "      <td>MARINA MEDEIROS HELOU</td>\n",
              "    </tr>\n",
              "    <tr>\n",
              "      <th>362818</th>\n",
              "      <td>MASCULINO</td>\n",
              "      <td>BRANCA</td>\n",
              "      <td>JOSE LEVY FIDELIX DA CRUZ</td>\n",
              "    </tr>\n",
              "    <tr>\n",
              "      <th>366721</th>\n",
              "      <td>FEMININO</td>\n",
              "      <td>PRETA</td>\n",
              "      <td>VERA LUCIA PEREIRA DA SILVA SALGADO</td>\n",
              "    </tr>\n",
              "    <tr>\n",
              "      <th>414775</th>\n",
              "      <td>MASCULINO</td>\n",
              "      <td>BRANCA</td>\n",
              "      <td>ANGELO ANDREA MATARAZZO</td>\n",
              "    </tr>\n",
              "    <tr>\n",
              "      <th>426648</th>\n",
              "      <td>MASCULINO</td>\n",
              "      <td>BRANCA</td>\n",
              "      <td>BRUNO COVAS LOPES</td>\n",
              "    </tr>\n",
              "    <tr>\n",
              "      <th>430902</th>\n",
              "      <td>MASCULINO</td>\n",
              "      <td>PRETA</td>\n",
              "      <td>ORLANDO SILVA DE JESUS JUNIOR</td>\n",
              "    </tr>\n",
              "  </tbody>\n",
              "</table>\n",
              "</div>"
            ],
            "text/plain": [
              "        DS_GENERO DS_COR_RACA                         NM_CANDIDATO\n",
              "52641   MASCULINO      BRANCA              FILIPE TOMAZELLI SABARA\n",
              "93552   MASCULINO      BRANCA           CELSO UBIRAJARA RUSSOMANNO\n",
              "135990  MASCULINO      BRANCA             MÁRCIO LUIZ FRANÇA GOMES\n",
              "154672  MASCULINO      BRANCA                 ARTHUR MOLEDO DO VAL\n",
              "191021  MASCULINO      BRANCA              GUILHERME CASTRO BOULOS\n",
              "198896  MASCULINO      BRANCA              JILMAR AUGUSTINHO TATTO\n",
              "284995  MASCULINO       PRETA                 ANTÔNIO CARLOS SILVA\n",
              "314865   FEMININO      BRANCA            JOICE CRISTINA HASSELMANN\n",
              "320171   FEMININO      BRANCA                MARINA MEDEIROS HELOU\n",
              "362818  MASCULINO      BRANCA            JOSE LEVY FIDELIX DA CRUZ\n",
              "366721   FEMININO       PRETA  VERA LUCIA PEREIRA DA SILVA SALGADO\n",
              "414775  MASCULINO      BRANCA              ANGELO ANDREA MATARAZZO\n",
              "426648  MASCULINO      BRANCA                    BRUNO COVAS LOPES\n",
              "430902  MASCULINO       PRETA        ORLANDO SILVA DE JESUS JUNIOR"
            ]
          },
          "metadata": {
            "tags": []
          },
          "execution_count": 56
        }
      ]
    },
    {
      "cell_type": "code",
      "metadata": {
        "id": "AZera_p-pZZ5",
        "outputId": "4d736867-a262-4a99-d860-a0e1abadf982",
        "colab": {
          "base_uri": "https://localhost:8080/",
          "height": 80
        }
      },
      "source": [
        "candidatos[candidatos['VR_BEM_CANDIDATO'] == candidatos['VR_BEM_CANDIDATO'].max()][['DS_GENERO', 'DS_COR_RACA', 'NM_CANDIDATO']]"
      ],
      "execution_count": 57,
      "outputs": [
        {
          "output_type": "execute_result",
          "data": {
            "text/html": [
              "<div>\n",
              "<style scoped>\n",
              "    .dataframe tbody tr th:only-of-type {\n",
              "        vertical-align: middle;\n",
              "    }\n",
              "\n",
              "    .dataframe tbody tr th {\n",
              "        vertical-align: top;\n",
              "    }\n",
              "\n",
              "    .dataframe thead th {\n",
              "        text-align: right;\n",
              "    }\n",
              "</style>\n",
              "<table border=\"1\" class=\"dataframe\">\n",
              "  <thead>\n",
              "    <tr style=\"text-align: right;\">\n",
              "      <th></th>\n",
              "      <th>DS_GENERO</th>\n",
              "      <th>DS_COR_RACA</th>\n",
              "      <th>NM_CANDIDATO</th>\n",
              "    </tr>\n",
              "  </thead>\n",
              "  <tbody>\n",
              "    <tr>\n",
              "      <th>431628</th>\n",
              "      <td>MASCULINO</td>\n",
              "      <td>PARDA</td>\n",
              "      <td>ADAMOR DIAS BITENCOURT</td>\n",
              "    </tr>\n",
              "  </tbody>\n",
              "</table>\n",
              "</div>"
            ],
            "text/plain": [
              "        DS_GENERO DS_COR_RACA            NM_CANDIDATO\n",
              "431628  MASCULINO       PARDA  ADAMOR DIAS BITENCOURT"
            ]
          },
          "metadata": {
            "tags": []
          },
          "execution_count": 57
        }
      ]
    },
    {
      "cell_type": "code",
      "metadata": {
        "id": "ZxDd5jvzsejZ",
        "outputId": "4bed8e65-9dbe-4f78-c3c3-c259f95052b9",
        "colab": {
          "base_uri": "https://localhost:8080/",
          "height": 419
        }
      },
      "source": [
        "candidatos[['NM_URNA_CANDIDATO', 'DS_GENERO', 'DS_COR_RACA','DS_OCUPACAO', 'VR_DESPESA_MAX_CAMPANHA','VR_BEM_CANDIDATO']]                                "
      ],
      "execution_count": 58,
      "outputs": [
        {
          "output_type": "execute_result",
          "data": {
            "text/html": [
              "<div>\n",
              "<style scoped>\n",
              "    .dataframe tbody tr th:only-of-type {\n",
              "        vertical-align: middle;\n",
              "    }\n",
              "\n",
              "    .dataframe tbody tr th {\n",
              "        vertical-align: top;\n",
              "    }\n",
              "\n",
              "    .dataframe thead th {\n",
              "        text-align: right;\n",
              "    }\n",
              "</style>\n",
              "<table border=\"1\" class=\"dataframe\">\n",
              "  <thead>\n",
              "    <tr style=\"text-align: right;\">\n",
              "      <th></th>\n",
              "      <th>NM_URNA_CANDIDATO</th>\n",
              "      <th>DS_GENERO</th>\n",
              "      <th>DS_COR_RACA</th>\n",
              "      <th>DS_OCUPACAO</th>\n",
              "      <th>VR_DESPESA_MAX_CAMPANHA</th>\n",
              "      <th>VR_BEM_CANDIDATO</th>\n",
              "    </tr>\n",
              "  </thead>\n",
              "  <tbody>\n",
              "    <tr>\n",
              "      <th>0</th>\n",
              "      <td>DINEI MOTOS</td>\n",
              "      <td>MASCULINO</td>\n",
              "      <td>PARDA</td>\n",
              "      <td>EMPRESÁRIO</td>\n",
              "      <td>17122</td>\n",
              "      <td>40000.00</td>\n",
              "    </tr>\n",
              "    <tr>\n",
              "      <th>1</th>\n",
              "      <td>BARRERITO</td>\n",
              "      <td>MASCULINO</td>\n",
              "      <td>PARDA</td>\n",
              "      <td>OUTROS</td>\n",
              "      <td>38798</td>\n",
              "      <td>NaN</td>\n",
              "    </tr>\n",
              "    <tr>\n",
              "      <th>2</th>\n",
              "      <td>MÁRCIO CAMARGO</td>\n",
              "      <td>MASCULINO</td>\n",
              "      <td>BRANCA</td>\n",
              "      <td>VEREADOR</td>\n",
              "      <td>-1</td>\n",
              "      <td>75000.00</td>\n",
              "    </tr>\n",
              "    <tr>\n",
              "      <th>3</th>\n",
              "      <td>DONATO LIMA</td>\n",
              "      <td>MASCULINO</td>\n",
              "      <td>PRETA</td>\n",
              "      <td>PUBLICITÁRIO</td>\n",
              "      <td>93964</td>\n",
              "      <td>18000.00</td>\n",
              "    </tr>\n",
              "    <tr>\n",
              "      <th>4</th>\n",
              "      <td>DAYANE</td>\n",
              "      <td>FEMININO</td>\n",
              "      <td>BRANCA</td>\n",
              "      <td>DONA DE CASA</td>\n",
              "      <td>12308</td>\n",
              "      <td>NaN</td>\n",
              "    </tr>\n",
              "    <tr>\n",
              "      <th>...</th>\n",
              "      <td>...</td>\n",
              "      <td>...</td>\n",
              "      <td>...</td>\n",
              "      <td>...</td>\n",
              "      <td>...</td>\n",
              "      <td>...</td>\n",
              "    </tr>\n",
              "    <tr>\n",
              "      <th>548334</th>\n",
              "      <td>SANDRA DE BONA</td>\n",
              "      <td>FEMININO</td>\n",
              "      <td>PARDA</td>\n",
              "      <td>AGRICULTOR</td>\n",
              "      <td>12308</td>\n",
              "      <td>20000.00</td>\n",
              "    </tr>\n",
              "    <tr>\n",
              "      <th>548335</th>\n",
              "      <td>RENATO PINTO ROSA</td>\n",
              "      <td>MASCULINO</td>\n",
              "      <td>PARDA</td>\n",
              "      <td>OUTROS</td>\n",
              "      <td>67900</td>\n",
              "      <td>57000.00</td>\n",
              "    </tr>\n",
              "    <tr>\n",
              "      <th>548336</th>\n",
              "      <td>SARACURA</td>\n",
              "      <td>MASCULINO</td>\n",
              "      <td>PARDA</td>\n",
              "      <td>TÉCNICO CONTABILIDADE, ESTATÍSTICA, ECONOMIA D...</td>\n",
              "      <td>12308</td>\n",
              "      <td>1000.00</td>\n",
              "    </tr>\n",
              "    <tr>\n",
              "      <th>548337</th>\n",
              "      <td>PATI LEIVA</td>\n",
              "      <td>FEMININO</td>\n",
              "      <td>BRANCA</td>\n",
              "      <td>OUTROS</td>\n",
              "      <td>692183</td>\n",
              "      <td>NaN</td>\n",
              "    </tr>\n",
              "    <tr>\n",
              "      <th>548338</th>\n",
              "      <td>GIBA PACKER</td>\n",
              "      <td>MASCULINO</td>\n",
              "      <td>BRANCA</td>\n",
              "      <td>SERVIDOR PÚBLICO ESTADUAL</td>\n",
              "      <td>12308</td>\n",
              "      <td>27684.03</td>\n",
              "    </tr>\n",
              "  </tbody>\n",
              "</table>\n",
              "<p>548339 rows × 6 columns</p>\n",
              "</div>"
            ],
            "text/plain": [
              "        NM_URNA_CANDIDATO  DS_GENERO  ... VR_DESPESA_MAX_CAMPANHA VR_BEM_CANDIDATO\n",
              "0             DINEI MOTOS  MASCULINO  ...                   17122         40000.00\n",
              "1               BARRERITO  MASCULINO  ...                   38798              NaN\n",
              "2          MÁRCIO CAMARGO  MASCULINO  ...                      -1         75000.00\n",
              "3             DONATO LIMA  MASCULINO  ...                   93964         18000.00\n",
              "4                  DAYANE   FEMININO  ...                   12308              NaN\n",
              "...                   ...        ...  ...                     ...              ...\n",
              "548334     SANDRA DE BONA   FEMININO  ...                   12308         20000.00\n",
              "548335  RENATO PINTO ROSA  MASCULINO  ...                   67900         57000.00\n",
              "548336           SARACURA  MASCULINO  ...                   12308          1000.00\n",
              "548337         PATI LEIVA   FEMININO  ...                  692183              NaN\n",
              "548338        GIBA PACKER  MASCULINO  ...                   12308         27684.03\n",
              "\n",
              "[548339 rows x 6 columns]"
            ]
          },
          "metadata": {
            "tags": []
          },
          "execution_count": 58
        }
      ]
    },
    {
      "cell_type": "code",
      "metadata": {
        "id": "jS5__aBuseqV",
        "outputId": "fb8936b3-91cc-4254-e8a0-89df83ae2450",
        "colab": {
          "base_uri": "https://localhost:8080/",
          "height": 187
        }
      },
      "source": [
        "instrucao = candidatos[['DS_GRAU_INSTRUCAO']].value_counts()\n",
        "instrucao                "
      ],
      "execution_count": 60,
      "outputs": [
        {
          "output_type": "execute_result",
          "data": {
            "text/plain": [
              "DS_GRAU_INSTRUCAO            \n",
              "ENSINO MÉDIO COMPLETO            208971\n",
              "SUPERIOR COMPLETO                133661\n",
              "ENSINO FUNDAMENTAL INCOMPLETO     69932\n",
              "ENSINO FUNDAMENTAL COMPLETO       66832\n",
              "ENSINO MÉDIO INCOMPLETO           27208\n",
              "SUPERIOR INCOMPLETO               24510\n",
              "LÊ E ESCREVE                      17205\n",
              "ANALFABETO                           20\n",
              "dtype: int64"
            ]
          },
          "metadata": {
            "tags": []
          },
          "execution_count": 60
        }
      ]
    },
    {
      "cell_type": "code",
      "metadata": {
        "id": "1mKH1pbDsfDA",
        "outputId": "0a20e87b-47b9-4ab9-ddc6-ed3934b7516a",
        "colab": {
          "base_uri": "https://localhost:8080/",
          "height": 564
        }
      },
      "source": [
        "instrucao.plot(kind='barh')"
      ],
      "execution_count": 65,
      "outputs": [
        {
          "output_type": "execute_result",
          "data": {
            "text/plain": [
              "<matplotlib.axes._subplots.AxesSubplot at 0x7eff80027c50>"
            ]
          },
          "metadata": {
            "tags": []
          },
          "execution_count": 65
        },
        {
          "output_type": "display_data",
          "data": {
            "image/png": "[encoded data removed]",
            "text/plain": [
              "<Figure size 1440x720 with 1 Axes>"
            ]
          },
          "metadata": {
            "tags": []
          }
        }
      ]
    },
    {
      "cell_type": "code",
      "metadata": {
        "id": "JGYDW4Mjse3b"
      },
      "source": [
        ""
      ],
      "execution_count": 59,
      "outputs": []
    }
  ]
}